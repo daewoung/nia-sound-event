{
 "cells": [
  {
   "cell_type": "code",
   "execution_count": 95,
   "metadata": {},
   "outputs": [],
   "source": [
    "import csv\n",
    "\n",
    "f = open('achievement_test.csv','r')\n",
    "readr = csv.reader(f)\n",
    " \n",
    "read_name = []\n",
    "progress = []\n",
    "output_read_name = []\n",
    "\n",
    "\n",
    "for line in readr:\n",
    "    read_name.append(line[0].split('.'))\n",
    "    progress.append(line[1])\n",
    "for i in range(len(read_name)):\n",
    "    try:\n",
    "        output_read_name.append(read_name[i][1].split('님')[0])\n",
    "    except:\n",
    "        pass"
   ]
  },
  {
   "cell_type": "code",
   "execution_count": 101,
   "metadata": {},
   "outputs": [],
   "source": [
    "len(output_read_name)\n",
    "progress = progress[1:]"
   ]
  },
  {
   "cell_type": "code",
   "execution_count": 103,
   "metadata": {},
   "outputs": [],
   "source": [
    "f = open('write.csv','w', newline='')\n",
    "wr = csv.writer(f)\n",
    "wr.writerow(['이름', '진행갯수'])\n",
    "\n",
    "for i in range(len(progress)):\n",
    "    wr.writerow([output_read_name[i], progress[i]])\n",
    " \n",
    "f.close()"
   ]
  },
  {
   "cell_type": "code",
   "execution_count": null,
   "metadata": {},
   "outputs": [],
   "source": []
  }
 ],
 "metadata": {
  "kernelspec": {
   "display_name": "Python 3.8.10 64-bit",
   "language": "python",
   "name": "python3"
  },
  "language_info": {
   "codemirror_mode": {
    "name": "ipython",
    "version": 3
   },
   "file_extension": ".py",
   "mimetype": "text/x-python",
   "name": "python",
   "nbconvert_exporter": "python",
   "pygments_lexer": "ipython3",
   "version": "3.8.10"
  },
  "orig_nbformat": 4,
  "vscode": {
   "interpreter": {
    "hash": "31f2aee4e71d21fbe5cf8b01ff0e069b9275f58929596ceb00d14d90e3e16cd6"
   }
  }
 },
 "nbformat": 4,
 "nbformat_minor": 2
}
