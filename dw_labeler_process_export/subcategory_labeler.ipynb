{
 "cells": [
  {
   "cell_type": "code",
   "execution_count": 2,
   "metadata": {},
   "outputs": [],
   "source": [
    "import json\n",
    "import csv"
   ]
  },
  {
   "cell_type": "code",
   "execution_count": 3,
   "metadata": {},
   "outputs": [
    {
     "data": {
      "text/plain": [
       "{'status': 'UP'}"
      ]
     },
     "execution_count": 3,
     "metadata": {},
     "output_type": "execute_result"
    }
   ],
   "source": [
    "LABEL_STUDIO_URL = 'http://maler3.sogang.ac.kr:40003/'\n",
    "API_KEY = '6c6ca863e926fff8a7a0d233978f5cfcd173e2a2'\n",
    "\n",
    "from label_studio_sdk import Client, Project\n",
    "ls = Client(url=LABEL_STUDIO_URL, api_key=API_KEY)\n",
    "ls.check_connection()"
   ]
  },
  {
   "cell_type": "code",
   "execution_count": 4,
   "metadata": {},
   "outputs": [
    {
     "name": "stdout",
     "output_type": "stream",
     "text": [
      "project list len is : 40\n"
     ]
    },
    {
     "data": {
      "text/plain": [
       "41"
      ]
     },
     "execution_count": 4,
     "metadata": {},
     "output_type": "execute_result"
    }
   ],
   "source": [
    "project_list = ls.get_projects()\n",
    "print(f'project list len is : {len(project_list)}')\n",
    "project_list[0].get_views()[0]['project'] #몇번째 프로젝트 넘버인지 \n"
   ]
  },
  {
   "cell_type": "code",
   "execution_count": 175,
   "metadata": {},
   "outputs": [
    {
     "ename": "LabelStudioAttributeError",
     "evalue": "Project \"export_task\" field is not set",
     "output_type": "error",
     "traceback": [
      "\u001b[0;31m---------------------------------------------------------------------------\u001b[0m",
      "\u001b[0;31mLabelStudioAttributeError\u001b[0m                 Traceback (most recent call last)",
      "\u001b[1;32m/home/daewoong/userdata/nia-my-event/subcategory_labeler.ipynb 셀 4\u001b[0m in \u001b[0;36m<module>\u001b[0;34m\u001b[0m\n\u001b[1;32m      <a href='vscode-notebook-cell://ssh-remote%2B7b22686f73744e616d65223a226d616c6572322e736f67616e672e61632e6b72222c2275736572223a22646165776f6f6e67222c22706f7274223a35303431327d/home/daewoong/userdata/nia-my-event/subcategory_labeler.ipynb#X12sdnNjb2RlLXJlbW90ZQ%3D%3D?line=0'>1</a>\u001b[0m \u001b[39mfor\u001b[39;00m i \u001b[39min\u001b[39;00m \u001b[39mrange\u001b[39m(\u001b[39mlen\u001b[39m(project_list)):\n\u001b[0;32m----> <a href='vscode-notebook-cell://ssh-remote%2B7b22686f73744e616d65223a226d616c6572322e736f67616e672e61632e6b72222c2275736572223a22646165776f6f6e67222c22706f7274223a35303431327d/home/daewoong/userdata/nia-my-event/subcategory_labeler.ipynb#X12sdnNjb2RlLXJlbW90ZQ%3D%3D?line=1'>2</a>\u001b[0m     ep_json \u001b[39m=\u001b[39m project_list[i]\u001b[39m.\u001b[39;49mexport_task()\n\u001b[1;32m      <a href='vscode-notebook-cell://ssh-remote%2B7b22686f73744e616d65223a226d616c6572322e736f67616e672e61632e6b72222c2275736572223a22646165776f6f6e67222c22706f7274223a35303431327d/home/daewoong/userdata/nia-my-event/subcategory_labeler.ipynb#X12sdnNjb2RlLXJlbW90ZQ%3D%3D?line=2'>3</a>\u001b[0m     \u001b[39mfor\u001b[39;00m i \u001b[39min\u001b[39;00m \u001b[39mrange\u001b[39m(\u001b[39mlen\u001b[39m(ep_json)):\n\u001b[1;32m      <a href='vscode-notebook-cell://ssh-remote%2B7b22686f73744e616d65223a226d616c6572322e736f67616e672e61632e6b72222c2275736572223a22646165776f6f6e67222c22706f7274223a35303431327d/home/daewoong/userdata/nia-my-event/subcategory_labeler.ipynb#X12sdnNjb2RlLXJlbW90ZQ%3D%3D?line=3'>4</a>\u001b[0m         ep_json[i][\u001b[39m'\u001b[39m\u001b[39mdata\u001b[39m\u001b[39m'\u001b[39m]\n",
      "File \u001b[0;32m~/.local/lib/python3.8/site-packages/label_studio_sdk/project.py:107\u001b[0m, in \u001b[0;36mProject.__getattr__\u001b[0;34m(self, item)\u001b[0m\n\u001b[1;32m    106\u001b[0m \u001b[39mdef\u001b[39;00m \u001b[39m__getattr__\u001b[39m(\u001b[39mself\u001b[39m, item):\n\u001b[0;32m--> 107\u001b[0m     \u001b[39mreturn\u001b[39;00m \u001b[39mself\u001b[39;49m\u001b[39m.\u001b[39;49m_get_param(item)\n",
      "File \u001b[0;32m~/.local/lib/python3.8/site-packages/label_studio_sdk/project.py:259\u001b[0m, in \u001b[0;36mProject._get_param\u001b[0;34m(self, param_name)\u001b[0m\n\u001b[1;32m    257\u001b[0m     \u001b[39mself\u001b[39m\u001b[39m.\u001b[39mupdate_params()\n\u001b[1;32m    258\u001b[0m     \u001b[39mif\u001b[39;00m param_name \u001b[39mnot\u001b[39;00m \u001b[39min\u001b[39;00m \u001b[39mself\u001b[39m\u001b[39m.\u001b[39mparams:\n\u001b[0;32m--> 259\u001b[0m         \u001b[39mraise\u001b[39;00m LabelStudioAttributeError(\u001b[39mf\u001b[39m\u001b[39m'\u001b[39m\u001b[39mProject \u001b[39m\u001b[39m\"\u001b[39m\u001b[39m{\u001b[39;00mparam_name\u001b[39m}\u001b[39;00m\u001b[39m\"\u001b[39m\u001b[39m field is not set\u001b[39m\u001b[39m'\u001b[39m)\n\u001b[1;32m    260\u001b[0m \u001b[39mreturn\u001b[39;00m \u001b[39mself\u001b[39m\u001b[39m.\u001b[39mparams[param_name]\n",
      "\u001b[0;31mLabelStudioAttributeError\u001b[0m: Project \"export_task\" field is not set"
     ]
    }
   ],
   "source": [
    "for i in range(len(project_list)):\n",
    "    ep_json = project_list[i].export_task()\n",
    "    for i in range(len(ep_json)):\n",
    "        ep_json[i]['data']"
   ]
  },
  {
   "cell_type": "code",
   "execution_count": 98,
   "metadata": {},
   "outputs": [
    {
     "data": {
      "text/plain": [
       "<label_studio_sdk.project.Project at 0x7fb3405252e0>"
      ]
     },
     "execution_count": 98,
     "metadata": {},
     "output_type": "execute_result"
    }
   ],
   "source": [
    "# pj = Project(LABEL_STUDIO_URL, api_key=API_KEY)\n",
    "# k = pj.get_from_id(ls,40)\n",
    "# k"
   ]
  },
  {
   "cell_type": "code",
   "execution_count": 334,
   "metadata": {},
   "outputs": [],
   "source": []
  },
  {
   "cell_type": "code",
   "execution_count": 5,
   "metadata": {},
   "outputs": [
    {
     "data": {
      "text/plain": [
       "['서부 총잡이 도시', 54]"
      ]
     },
     "execution_count": 5,
     "metadata": {},
     "output_type": "execute_result"
    }
   ],
   "source": [
    "# 카테고리 이름 가져오기 121개 \n",
    "import json\n",
    "\n",
    "with open('vocab.json', 'r') as f:\n",
    "    json_data = json.load(f)\n",
    "\n",
    "category_json_list = []\n",
    "for i in range(len(json_data)):\n",
    "    name = json_data[i]['소분류']\n",
    "    number = json_data[i]['소분류_번호']\n",
    "    category_json_list.append([name, number])\n",
    "\n",
    "category_json_list[53]"
   ]
  },
  {
   "cell_type": "code",
   "execution_count": 426,
   "metadata": {},
   "outputs": [
    {
     "ename": "SyntaxError",
     "evalue": "invalid syntax (2580576301.py, line 1)",
     "output_type": "error",
     "traceback": [
      "\u001b[0;36m  Input \u001b[0;32mIn [426]\u001b[0;36m\u001b[0m\n\u001b[0;31m    EA_list = [[i for i in category_json_list[i][0],0 for i in range(0,121)]]\u001b[0m\n\u001b[0m                                                   ^\u001b[0m\n\u001b[0;31mSyntaxError\u001b[0m\u001b[0;31m:\u001b[0m invalid syntax\n"
     ]
    }
   ],
   "source": [
    "EA_list = []\n",
    "for i in range(0,121):\n",
    "    EA_list.append([category_json_list[i][0], 0])\n",
    "\n",
    "\n",
    "total_check = 0\n",
    "label_length = 0\n",
    "for i in range(len(project_list)):\n",
    "    check_number = 0\n",
    "    \n",
    "    audio_text = project_list[i].export_tasks()\n",
    "    label_length = label_length +(len(audio_text))\n",
    "    total_check +=(len(audio_text)) \n",
    "    test_list = []\n",
    "\n",
    "    for j in range(len(audio_text)):\n",
    "        text = audio_text[j]['data']['audio']\n",
    "        split_text = text.split('/')[-1]\n",
    "        split_categor = split_text.split('-')[-3]\n",
    "\n",
    "        space_text = audio_text[j]['data']['text']\n",
    "        space_text = space_text.split(':')[0]\n",
    "\n",
    "        if space_text == category_json_list[int(split_categor)-1][0]:\n",
    "            test_list.append(split_categor)\n",
    "        else:\n",
    "            error_split_categor = split_text.split('-')[-2]\n",
    "            if space_text == category_json_list[int(error_split_categor)-1][0]:\n",
    "                test_list.append(error_split_categor)\n",
    "            else :\n",
    "                print('아주 큰 오류가 있습니다.')\n",
    " \n",
    "    for k in range(len(test_list)):\n",
    "        number_is = test_list[k] \n",
    "        EA_list[int(number_is)-1] += 1\n",
    "    \n",
    "    for p in range (len(EA_list)):\n",
    "        check_number += EA_list[p]\n",
    "\n",
    "    if check_number != label_length:\n",
    "        print(f'{i}번째 프로젝트에 오류가 있습니다.')\n",
    "\n",
    "   \n",
    "\n",
    "ck = 0 \n",
    "for i in range (len(EA_list)):\n",
    "    ck += EA_list[i]\n",
    "if ck == total_check:\n",
    "    print('전체 일치합니다.')"
   ]
  },
  {
   "cell_type": "code",
   "execution_count": 6,
   "metadata": {},
   "outputs": [
    {
     "name": "stdout",
     "output_type": "stream",
     "text": [
      "전체 일치합니다.\n"
     ]
    }
   ],
   "source": [
    "EA_list = []\n",
    "for i in range(0,121):\n",
    "    EA_list.append([category_json_list[i][0], 0])\n",
    "\n",
    "\n",
    "total_check = 0\n",
    "label_length = 0\n",
    "for i in range(len(project_list)):\n",
    "    check_number = 0\n",
    " \n",
    "    audio_text = project_list[i].export_tasks()\n",
    "    label_length = label_length +(len(audio_text))\n",
    "    total_check +=(len(audio_text)) \n",
    "    test_list = []\n",
    "\n",
    "    for j in range(len(audio_text)):\n",
    "        text = audio_text[j]['data']['audio']\n",
    "        split_text = text.split('/')[-1]\n",
    "        split_categor = split_text.split('-')[-3]\n",
    "\n",
    "        space_text = audio_text[j]['data']['text']\n",
    "        space_text = space_text.split(':')[0]\n",
    "\n",
    "        if space_text == category_json_list[int(split_categor)-1][0]:\n",
    "            test_list.append([split_categor,space_text])\n",
    "        else:\n",
    "            error_split_categor = split_text.split('-')[-2]\n",
    "            if space_text == category_json_list[int(error_split_categor)-1][0]:\n",
    "                test_list.append([error_split_categor, space_text])\n",
    "            else :\n",
    "                print('아주 큰 오류가 있습니다.')\n",
    " \n",
    "    for k in range(len(test_list)):\n",
    "        number_is = test_list[k][0]\n",
    "        text_is = test_list[k][1] \n",
    "        for i in range(len(EA_list)):\n",
    "            k = EA_list[i][0].find(text_is)\n",
    "            if k == 0:\n",
    "                EA_list[i][1] += 1\n",
    "    \n",
    "    for p in range (len(EA_list)):\n",
    "        check_number += EA_list[p][1]\n",
    "\n",
    "\n",
    "    if check_number != label_length:\n",
    "        print(f'{i}번째 프로젝트에 오류가 있습니다.')\n",
    "\n",
    "   \n",
    "\n",
    "ck = 0 \n",
    "for i in range (len(EA_list)):\n",
    "    ck += EA_list[i][1]\n",
    "if ck == total_check:\n",
    "    print('전체 일치합니다.')"
   ]
  },
  {
   "cell_type": "code",
   "execution_count": 7,
   "metadata": {},
   "outputs": [
    {
     "name": "stdout",
     "output_type": "stream",
     "text": [
      "전체 라벨 갯수는 587개 입니다.\n",
      "CSV에 들어갈 수 있는 라벨 갯수는 587개 입니다.\n"
     ]
    }
   ],
   "source": [
    "print(f'전체 라벨 갯수는 {total_check}개 입니다.')\n",
    "print(f'CSV에 들어갈 수 있는 라벨 갯수는 {ck}개 입니다.')"
   ]
  },
  {
   "cell_type": "code",
   "execution_count": 8,
   "metadata": {},
   "outputs": [
    {
     "data": {
      "text/plain": [
       "('r-1-1-9-4-이주석.mp3', '9')"
      ]
     },
     "execution_count": 8,
     "metadata": {},
     "output_type": "execute_result"
    }
   ],
   "source": [
    "text = project_list[0].export_tasks()[1]['data']['audio']\n",
    "split_text = text.split('/')[-1]\n",
    "split_categor = split_text.split('-')[-3]\n",
    "split_text,split_categor "
   ]
  },
  {
   "cell_type": "code",
   "execution_count": 478,
   "metadata": {},
   "outputs": [
    {
     "data": {
      "text/plain": [
       "('서부 총잡이 도시: ', '서부 총잡이 도시')"
      ]
     },
     "execution_count": 478,
     "metadata": {},
     "output_type": "execute_result"
    }
   ],
   "source": [
    "\n",
    "text = project_list[35].export_tasks()[27]['data']['audio']\n",
    "split_text = text.split('/')[-1]\n",
    "\n",
    "space_text = project_list[35].export_tasks()[27]['data']['text']\n",
    "space_text = space_text.split(':')[0]\n",
    "project_list[35].export_tasks()[27]['data']['text'], space_text "
   ]
  },
  {
   "cell_type": "code",
   "execution_count": 9,
   "metadata": {},
   "outputs": [
    {
     "data": {
      "text/plain": [
       "True"
      ]
     },
     "execution_count": 9,
     "metadata": {},
     "output_type": "execute_result"
    }
   ],
   "source": [
    "audio_text = project_list[0].export_tasks()[1]['data']['audio']\n",
    "split_text = audio_text.split('/')[-1]\n",
    "split_categor = split_text.split('-')[-3]\n",
    "split_categor\n",
    "\n",
    "space_text = project_list[0].export_tasks()[1]['data']['text']\n",
    "space_text = space_text.split(':')[0]\n",
    "space_text == category_json_list[int(split_categor)-1][0]"
   ]
  },
  {
   "cell_type": "code",
   "execution_count": 10,
   "metadata": {},
   "outputs": [
    {
     "data": {
      "text/plain": [
       "'9'"
      ]
     },
     "execution_count": 10,
     "metadata": {},
     "output_type": "execute_result"
    }
   ],
   "source": [
    "audio_text = project_list[0].export_tasks()[1]['data']['audio']\n",
    "split_text = audio_text.split('/')[-1]\n",
    "split_categor = split_text.split('-')[-3]\n",
    "split_categor"
   ]
  },
  {
   "cell_type": "code",
   "execution_count": null,
   "metadata": {},
   "outputs": [],
   "source": [
    "# 카테고리 이름 가져오기 121개 \n",
    "import json\n",
    "\n",
    "with open('vocab.json', 'r') as f:\n",
    "    json_data = json.load(f)\n",
    "\n",
    "category_json_list = []\n",
    "for i in range(len(json_data)):\n",
    "    name = json_data[i]['소분류']\n",
    "    number = json_data[i]['소분류_번호']\n",
    "    category_json_list.append([name, number])\n",
    "\n",
    "category_json_list"
   ]
  },
  {
   "cell_type": "code",
   "execution_count": 11,
   "metadata": {},
   "outputs": [
    {
     "data": {
      "text/plain": [
       "[['호텔', 0],\n",
       " ['병원', 0],\n",
       " ['놀이공원', 0],\n",
       " ['상업 몰', 0],\n",
       " ['공항', 46],\n",
       " ['전시장', 32],\n",
       " ['백화점', 32],\n",
       " ['마트', 31],\n",
       " ['재래시장', 28],\n",
       " ['지하상가', 27],\n",
       " ['주차장', 24],\n",
       " ['버스 정류장', 24],\n",
       " ['버스 터미널', 22],\n",
       " ['지하철역', 0],\n",
       " ['기차역', 0],\n",
       " ['레스토랑/음식점', 0],\n",
       " ['카페', 0],\n",
       " ['술집', 0],\n",
       " ['영화관', 0],\n",
       " ['헬스장', 0],\n",
       " ['상업지역', 0],\n",
       " ['도서관', 0],\n",
       " ['공원', 0],\n",
       " ['관공서', 0],\n",
       " ['사무실', 0],\n",
       " ['종교 시설', 0],\n",
       " ['수영장', 0],\n",
       " ['경기장 (실내)', 0],\n",
       " ['경기장 (실외)', 0],\n",
       " ['교외 거주지역', 0],\n",
       " ['아파트 단지', 0],\n",
       " ['가정 실내', 0],\n",
       " ['룸톤', 0],\n",
       " ['도심 지역', 0],\n",
       " ['교통 소리', 0],\n",
       " ['군중 소리', 0],\n",
       " ['동물원', 0],\n",
       " ['학교', 0],\n",
       " ['창고', 0],\n",
       " ['공장', 0],\n",
       " ['항구', 0],\n",
       " ['숲', 0],\n",
       " ['드넓은 초원', 0],\n",
       " ['동굴', 0],\n",
       " ['바닷가', 0],\n",
       " ['강/계곡/하천/냇가 등', 0],\n",
       " ['호숫가', 0],\n",
       " ['폭포', 0],\n",
       " ['가상 업무 공간', 29],\n",
       " ['고대 문명 도시', 37],\n",
       " ['해저 도시', 29],\n",
       " ['하늘 도시', 37],\n",
       " ['판타지 중세 성', 32],\n",
       " ['서부 총잡이 도시', 23],\n",
       " ['공상과학/사이버펑크 미래도시', 32],\n",
       " ['무한한 터널', 11],\n",
       " ['타임머신', 8],\n",
       " ['워프', 0],\n",
       " ['레이싱', 0],\n",
       " ['기계 도시', 0],\n",
       " ['우주 도시', 0],\n",
       " ['화산지대', 0],\n",
       " ['실험실', 0],\n",
       " ['우주선 복도', 0],\n",
       " ['우주 정거장', 0],\n",
       " ['서버실', 0],\n",
       " ['상황실', 0],\n",
       " ['신전', 0],\n",
       " ['광산', 0],\n",
       " ['외계 도시', 0],\n",
       " ['지하 도시', 0],\n",
       " ['우주 공간 시나리오', 20],\n",
       " ['우주선 탑승 시나리오', 28],\n",
       " ['자연 재해 시나리오', 11],\n",
       " ['인공 전쟁/전투 시나리오', 24],\n",
       " ['가상 전쟁/전투 시나리오', 0],\n",
       " ['위급 상황 관련 시나리오', 0],\n",
       " ['건축 관련 소리 시나리오', 0],\n",
       " ['음식 만드는 시나리오', 0],\n",
       " ['실내 청소 시나리오', 0],\n",
       " ['샤워 관련 소리 시나리오', 0],\n",
       " ['자전거 탑승 시나리오', 0],\n",
       " ['버스 탑승 시나리오', 0],\n",
       " ['차량 탑승 시나리오', 0],\n",
       " ['오토바이 탑승 시나리오', 0],\n",
       " ['비행기 탑승 시나리오', 0],\n",
       " ['헬리콥터 탑승 시나리오', 0],\n",
       " ['보트 탑승 시나리오', 0],\n",
       " ['유람선 탑승 시나리오', 0],\n",
       " ['기차 탑승 시나리오', 0],\n",
       " ['폭발 관련 소리 시나리오', 0],\n",
       " ['구강 발생 소리 시나리오', 0],\n",
       " ['손을 이용한 소리 시나리오', 0],\n",
       " ['발을 이용한 소리 시나리오', 0],\n",
       " ['그 외 신체 소리 시나리오', 0],\n",
       " ['동물/곤충 소리 시나리오', 0],\n",
       " ['바람 관련 소리 시나리오', 0],\n",
       " ['비 관련 소리 시나리오', 0],\n",
       " ['눈 관련 소리 시나리오', 0],\n",
       " ['천둥번개/우뢰 관련 소리 시나리오', 0],\n",
       " ['유리 관련 소리 시나리오', 0],\n",
       " ['호러/SF 장르 관련 소리 1 - 자르는 소리', 0],\n",
       " ['호러/SF 장르 관련 소리 2 - 부러지는 소리', 0],\n",
       " ['호러/SF 장르 관련 소리 3 - 괴물 소리', 0],\n",
       " ['호러/SF 장르 관련 소리 4 - 비명 소리', 0],\n",
       " ['호러/SF 장르 관련 소리 5 - 음산한 소리', 0],\n",
       " ['카메라 촬영 관련 소리 시나리오', 0],\n",
       " ['쇠사슬 행위 관련 소리 시나리오', 0],\n",
       " ['제품 켜는 소리 시나리오', 0],\n",
       " ['엘리베이터 탑승 관련 시나리오', 0],\n",
       " ['문 관련 소리 시나리오', 0],\n",
       " ['시계 관련 소리 시나리오', 0],\n",
       " ['액체 관련 소리 시나리오', 0],\n",
       " ['컴퓨터 관련 소리 시나리오', 0],\n",
       " ['오래된 전화기 관련 소리 시나리오', 0],\n",
       " ['스마트폰 관련 소리 시나리오', 0],\n",
       " ['라디오 관련 소리 시나리오', 0],\n",
       " ['텔레비전 관련 소리 시나리오', 0],\n",
       " ['타자기 관련 소리 시나리오', 0],\n",
       " ['로봇 관련 소리 시나리오', 0],\n",
       " ['레이저 관련 소리 시나리오', 0]]"
      ]
     },
     "execution_count": 11,
     "metadata": {},
     "output_type": "execute_result"
    }
   ],
   "source": [
    "EA_list"
   ]
  },
  {
   "cell_type": "code",
   "execution_count": 468,
   "metadata": {},
   "outputs": [
    {
     "data": {
      "text/plain": [
       "['호텔', 1]"
      ]
     },
     "execution_count": 468,
     "metadata": {},
     "output_type": "execute_result"
    }
   ],
   "source": [
    "category_json_list[0]"
   ]
  },
  {
   "cell_type": "code",
   "execution_count": 1,
   "metadata": {},
   "outputs": [
    {
     "ename": "NameError",
     "evalue": "name 'csv' is not defined",
     "output_type": "error",
     "traceback": [
      "\u001b[0;31m---------------------------------------------------------------------------\u001b[0m",
      "\u001b[0;31mNameError\u001b[0m                                 Traceback (most recent call last)",
      "\u001b[1;32m/home/daewoong/userdata/nia-my-event/subcategory_labeler.ipynb 셀 19\u001b[0m in \u001b[0;36m<module>\u001b[0;34m\u001b[0m\n\u001b[1;32m      <a href='vscode-notebook-cell://ssh-remote%2B7b22686f73744e616d65223a226d616c6572322e736f67616e672e61632e6b72222c2275736572223a22646165776f6f6e67222c22706f7274223a35303431327d/home/daewoong/userdata/nia-my-event/subcategory_labeler.ipynb#X24sdnNjb2RlLXJlbW90ZQ%3D%3D?line=0'>1</a>\u001b[0m \u001b[39m# csv로 변환 및 저장 \u001b[39;00m\n\u001b[1;32m      <a href='vscode-notebook-cell://ssh-remote%2B7b22686f73744e616d65223a226d616c6572322e736f67616e672e61632e6b72222c2275736572223a22646165776f6f6e67222c22706f7274223a35303431327d/home/daewoong/userdata/nia-my-event/subcategory_labeler.ipynb#X24sdnNjb2RlLXJlbW90ZQ%3D%3D?line=1'>2</a>\u001b[0m f \u001b[39m=\u001b[39m \u001b[39mopen\u001b[39m(\u001b[39m'\u001b[39m\u001b[39mcategory_labeling_progress.csv\u001b[39m\u001b[39m'\u001b[39m,\u001b[39m'\u001b[39m\u001b[39mw\u001b[39m\u001b[39m'\u001b[39m, newline\u001b[39m=\u001b[39m\u001b[39m'\u001b[39m\u001b[39m'\u001b[39m)\n\u001b[0;32m----> <a href='vscode-notebook-cell://ssh-remote%2B7b22686f73744e616d65223a226d616c6572322e736f67616e672e61632e6b72222c2275736572223a22646165776f6f6e67222c22706f7274223a35303431327d/home/daewoong/userdata/nia-my-event/subcategory_labeler.ipynb#X24sdnNjb2RlLXJlbW90ZQ%3D%3D?line=2'>3</a>\u001b[0m wr \u001b[39m=\u001b[39m csv\u001b[39m.\u001b[39mwriter(f)\n\u001b[1;32m      <a href='vscode-notebook-cell://ssh-remote%2B7b22686f73744e616d65223a226d616c6572322e736f67616e672e61632e6b72222c2275736572223a22646165776f6f6e67222c22706f7274223a35303431327d/home/daewoong/userdata/nia-my-event/subcategory_labeler.ipynb#X24sdnNjb2RlLXJlbW90ZQ%3D%3D?line=3'>4</a>\u001b[0m wr\u001b[39m.\u001b[39mwriterow([\u001b[39m'\u001b[39m\u001b[39m소분류_이름\u001b[39m\u001b[39m'\u001b[39m, \u001b[39m'\u001b[39m\u001b[39m진행갯수\u001b[39m\u001b[39m'\u001b[39m])\n\u001b[1;32m      <a href='vscode-notebook-cell://ssh-remote%2B7b22686f73744e616d65223a226d616c6572322e736f67616e672e61632e6b72222c2275736572223a22646165776f6f6e67222c22706f7274223a35303431327d/home/daewoong/userdata/nia-my-event/subcategory_labeler.ipynb#X24sdnNjb2RlLXJlbW90ZQ%3D%3D?line=5'>6</a>\u001b[0m \u001b[39mfor\u001b[39;00m i \u001b[39min\u001b[39;00m \u001b[39mrange\u001b[39m(\u001b[39mlen\u001b[39m(category_json_list)):\n",
      "\u001b[0;31mNameError\u001b[0m: name 'csv' is not defined"
     ]
    }
   ],
   "source": [
    "# csv로 변환 및 저장 \n",
    "f = open('category_labeling_progress.csv','w', newline='')\n",
    "wr = csv.writer(f)\n",
    "wr.writerow(['소분류_이름', '진행갯수'])\n",
    "\n",
    "for i in range(len(category_json_list)):\n",
    "    if category_json_list[i][0] == EA_list[i][0]:\n",
    "        wr.writerow([category_json_list[i][0], EA_list[i][1]])\n",
    " \n",
    "f.close()"
   ]
  }
 ],
 "metadata": {
  "kernelspec": {
   "display_name": "Python 3.8.10 64-bit",
   "language": "python",
   "name": "python3"
  },
  "language_info": {
   "codemirror_mode": {
    "name": "ipython",
    "version": 3
   },
   "file_extension": ".py",
   "mimetype": "text/x-python",
   "name": "python",
   "nbconvert_exporter": "python",
   "pygments_lexer": "ipython3",
   "version": "3.8.10"
  },
  "orig_nbformat": 4,
  "vscode": {
   "interpreter": {
    "hash": "31f2aee4e71d21fbe5cf8b01ff0e069b9275f58929596ceb00d14d90e3e16cd6"
   }
  }
 },
 "nbformat": 4,
 "nbformat_minor": 2
}
