{
 "cells": [
  {
   "cell_type": "code",
   "execution_count": 1,
   "metadata": {},
   "outputs": [
    {
     "name": "stdout",
     "output_type": "stream",
     "text": [
      "/home/clay/userdata/nia-sound-event-1\n"
     ]
    }
   ],
   "source": [
    "%cd ..\n",
    "%load_ext autoreload\n",
    "%autoreload 2"
   ]
  },
  {
   "cell_type": "code",
   "execution_count": 5,
   "metadata": {},
   "outputs": [],
   "source": [
    "import json\n",
    "import torchaudio\n",
    "from pathlib import Path\n",
    "from copy import copy\n",
    "from docx.api import Document\n",
    "import soundfile as sf\n",
    "import librosa\n",
    "from pydub.utils import mediainfo\n",
    "from tqdm.auto import tqdm\n",
    "import pandas as pd\n",
    "\n",
    "from data_utils import NeutuneSet, OnFlyAudio"
   ]
  },
  {
   "cell_type": "code",
   "execution_count": 10,
   "metadata": {},
   "outputs": [],
   "source": [
    "# dataset = NeutuneSet('/home/teo/userdata/nia_dataset/field_recording')\n",
    "# dataset = NeutuneSet('/home/teo/label-studio_files/nia_dataset/')\n",
    "dataset = OnFlyAudio('/home/clay/label_studio_files/data_v4/04/')"
   ]
  },
  {
   "cell_type": "code",
   "execution_count": 14,
   "metadata": {},
   "outputs": [
    {
     "data": {
      "application/vnd.jupyter.widget-view+json": {
       "model_id": "0ac57080eaa547cc8927b1b69f6079dd",
       "version_major": 2,
       "version_minor": 0
      },
      "text/plain": [
       "  0%|          | 0/1808 [00:00<?, ?it/s]"
      ]
     },
     "metadata": {},
     "output_type": "display_data"
    },
    {
     "name": "stdout",
     "output_type": "stream",
     "text": [
      "Correct middle: 3 / Current middle: 4 / Current Fine: 57\n",
      "Correct middle: 3 / Current middle: 4 / Current Fine: 57\n",
      "Correct middle: 3 / Current middle: 4 / Current Fine: 57\n",
      "Correct middle: 3 / Current middle: 4 / Current Fine: 57\n",
      "Correct middle: 3 / Current middle: 4 / Current Fine: 57\n",
      "Correct middle: 3 / Current middle: 4 / Current Fine: 57\n"
     ]
    }
   ],
   "source": [
    "from pandas import read_table\n",
    "\n",
    "from meta_utils import MetaCreator\n",
    "\n",
    "meta_creator = MetaCreator('vocab.json')\n",
    "# v1 : 496 63 // 1864 \n",
    "entire_meta = [meta_creator.create_meta_for_wav(wav) for wav in tqdm(sorted(dataset.wav_list))]"
   ]
  },
  {
   "cell_type": "code",
   "execution_count": 15,
   "metadata": {},
   "outputs": [
    {
     "name": "stdout",
     "output_type": "stream",
     "text": [
      "233\n"
     ]
    },
    {
     "data": {
      "text/plain": [
       "defaultdict(list,\n",
       "            {\"Error occured while handling the corresponding xlsx: expected <class 'str'>\": ['fs-2-3-56-1-고수완.wav',\n",
       "              'fs-2-3-56-1-김규동.wav',\n",
       "              'fs-2-3-56-1-이상화.wav',\n",
       "              'fs-2-3-56-2-고수완.wav',\n",
       "              'fs-2-3-56-2-김규동.wav',\n",
       "              'fs-2-3-56-2-이상화.wav',\n",
       "              'fs-2-3-56-3-고수완.wav',\n",
       "              'fs-2-3-56-3-김규동.wav',\n",
       "              'fs-2-3-56-3-이상화.wav',\n",
       "              'fs-2-3-56-4-고수완.wav',\n",
       "              'fs-2-3-56-4-김규동.wav',\n",
       "              'fs-2-3-56-4-이상화.wav',\n",
       "              'fs-2-3-56-5-고수완.wav',\n",
       "              'fs-2-3-56-5-김규동.wav',\n",
       "              'fs-2-3-56-5-이상화.wav',\n",
       "              'fs-2-3-56-6-고수완.wav',\n",
       "              'fs-2-3-56-6-김규동.wav',\n",
       "              'fs-2-3-56-6-이상화.wav',\n",
       "              'fs-2-3-57-1-고수완.wav',\n",
       "              'fs-2-3-57-1-김규동.wav',\n",
       "              'fs-2-3-57-1-이상화.wav',\n",
       "              'fs-2-3-57-2-고수완.wav',\n",
       "              'fs-2-3-57-2-김규동.wav',\n",
       "              'fs-2-3-57-2-이상화.wav',\n",
       "              'fs-2-3-57-3-고수완.wav',\n",
       "              'fs-2-3-57-3-김규동.wav',\n",
       "              'fs-2-3-57-3-이상화.wav',\n",
       "              'fs-2-3-57-4-고수완.wav',\n",
       "              'fs-2-3-57-4-김규동.wav',\n",
       "              'fs-2-3-57-4-이상화.wav',\n",
       "              'fs-2-3-57-5-고수완.wav',\n",
       "              'fs-2-3-57-5-김규동.wav',\n",
       "              'fs-2-3-57-5-이상화.wav',\n",
       "              'fs-2-3-57-6-고수완.wav',\n",
       "              'fs-2-3-57-6-김규동.wav',\n",
       "              'fs-2-3-57-6-이상화.wav',\n",
       "              'fs-2-4-74-1-고수완.wav',\n",
       "              'fs-2-4-74-1-김규동.wav',\n",
       "              'fs-2-4-74-1-이상화.wav',\n",
       "              'fs-2-4-74-2-고수완.wav',\n",
       "              'fs-2-4-74-2-김규동.wav',\n",
       "              'fs-2-4-74-2-이상화.wav',\n",
       "              'fs-2-4-74-3-고수완.wav',\n",
       "              'fs-2-4-74-3-김규동.wav',\n",
       "              'fs-2-4-74-3-이상화.wav',\n",
       "              'fs-2-4-74-4-고수완.wav',\n",
       "              'fs-2-4-74-4-김규동.wav',\n",
       "              'fs-2-4-74-4-이상화.wav',\n",
       "              'fs-2-4-74-5-고수완.wav',\n",
       "              'fs-2-4-74-5-김규동.wav',\n",
       "              'fs-2-4-74-5-이상화.wav',\n",
       "              'fs-2-4-74-6-고수완.wav',\n",
       "              'fs-2-4-74-6-김규동.wav',\n",
       "              'fs-2-4-74-6-이상화.wav',\n",
       "              'fs-2-4-75-1-고수완.wav',\n",
       "              'fs-2-4-75-1-김규동.wav',\n",
       "              'fs-2-4-75-1-이상화.wav',\n",
       "              'fs-2-4-75-2-고수완.wav',\n",
       "              'fs-2-4-75-2-김규동.wav',\n",
       "              'fs-2-4-75-2-이상화.wav',\n",
       "              'fs-2-4-75-3-고수완.wav',\n",
       "              'fs-2-4-75-3-김규동.wav',\n",
       "              'fs-2-4-75-3-이상화.wav',\n",
       "              'fs-2-4-75-4-고수완.wav',\n",
       "              'fs-2-4-75-4-김규동.wav',\n",
       "              'fs-2-4-75-4-이상화.wav',\n",
       "              'fs-2-4-75-5-고수완.wav',\n",
       "              'fs-2-4-75-5-김규동.wav',\n",
       "              'fs-2-4-75-5-이상화.wav',\n",
       "              'fs-2-4-75-6-고수완.wav',\n",
       "              'fs-2-4-75-6-김규동.wav',\n",
       "              'fs-2-4-75-6-이상화.wav',\n",
       "              'r-1-1-11-1-백승렬.wav',\n",
       "              'r-1-1-11-10-백승렬.wav',\n",
       "              'r-1-1-11-11-백승렬.wav',\n",
       "              'r-1-1-11-12-백승렬.wav',\n",
       "              'r-1-1-11-13-백승렬.wav',\n",
       "              'r-1-1-11-14-백승렬.wav',\n",
       "              'r-1-1-11-2-백승렬.wav',\n",
       "              'r-1-1-11-3-백승렬.wav',\n",
       "              'r-1-1-11-4-백승렬.wav',\n",
       "              'r-1-1-11-5-백승렬.wav',\n",
       "              'r-1-1-11-6-백승렬.wav',\n",
       "              'r-1-1-11-7-백승렬.wav',\n",
       "              'r-1-1-11-8-백승렬.wav',\n",
       "              'r-1-1-11-9-백승렬.wav',\n",
       "              'r-1-1-12-1-백승렬.wav',\n",
       "              'r-1-1-12-10-백승렬.wav',\n",
       "              'r-1-1-12-11-백승렬.wav',\n",
       "              'r-1-1-12-12-백승렬.wav',\n",
       "              'r-1-1-12-2-백승렬.wav',\n",
       "              'r-1-1-12-3-백승렬.wav',\n",
       "              'r-1-1-12-4-백승렬.wav',\n",
       "              'r-1-1-12-5-백승렬.wav',\n",
       "              'r-1-1-12-6-백승렬.wav',\n",
       "              'r-1-1-12-7-백승렬.wav',\n",
       "              'r-1-1-12-8-백승렬.wav',\n",
       "              'r-1-1-12-9-백승렬.wav',\n",
       "              'r-1-1-13-1-백승렬.wav',\n",
       "              'r-1-1-13-12-백승렬.wav',\n",
       "              'r-1-1-13-13-백승렬.wav',\n",
       "              'r-1-1-13-14-백승렬.wav',\n",
       "              'r-1-1-13-15-백승렬.wav',\n",
       "              'r-1-1-13-3-백승렬.wav',\n",
       "              'r-1-1-13-4-백승렬.wav',\n",
       "              'r-1-1-13-5-백승렬.wav',\n",
       "              'r-1-1-13-6-백승렬.wav',\n",
       "              'r-1-1-13-7-백승렬.wav',\n",
       "              'r-1-1-13-8-백승렬.wav',\n",
       "              'r-1-1-13-9-백승렬.wav'],\n",
       "             'Meta docx does not exist': ['fs-2-3-57-4조현진.wav'],\n",
       "             'Category is wrong': ['fs-2-4-57-1-하정호.wav',\n",
       "              'fs-2-4-57-2-하정호.wav',\n",
       "              'fs-2-4-57-3-하정호.wav',\n",
       "              'fs-2-4-57-4-하정호.wav',\n",
       "              'fs-2-4-57-5-하정호.wav',\n",
       "              'fs-2-4-57-6-하정호.wav'],\n",
       "             \"Error occured while handling the corresponding xlsx: 'float' object is not subscriptable\": ['r-1-1-11-1-김유찬.wav',\n",
       "              'r-1-1-11-1-전소형.wav',\n",
       "              'r-1-1-11-10-김유찬.wav',\n",
       "              'r-1-1-11-10-박영진.wav',\n",
       "              'r-1-1-11-10-전소형.wav',\n",
       "              'r-1-1-11-11-김유찬.wav',\n",
       "              'r-1-1-11-11-박영진.wav',\n",
       "              'r-1-1-11-11-전소형.wav',\n",
       "              'r-1-1-11-12-김유찬.wav',\n",
       "              'r-1-1-11-12-박영진.wav',\n",
       "              'r-1-1-11-12-전소형.wav',\n",
       "              'r-1-1-11-13-김유찬.wav',\n",
       "              'r-1-1-11-2-김유찬.wav',\n",
       "              'r-1-1-11-2-전소형.wav',\n",
       "              'r-1-1-11-3-김유찬.wav',\n",
       "              'r-1-1-11-3-전소형.wav',\n",
       "              'r-1-1-11-4-김유찬.wav',\n",
       "              'r-1-1-11-4-전소형.wav',\n",
       "              'r-1-1-11-5-김유찬.wav',\n",
       "              'r-1-1-11-5-박영진.wav',\n",
       "              'r-1-1-11-5-전소형.wav',\n",
       "              'r-1-1-11-6-김유찬.wav',\n",
       "              'r-1-1-11-6-박영진.wav',\n",
       "              'r-1-1-11-6-전소형.wav',\n",
       "              'r-1-1-11-7-김영운.wav',\n",
       "              'r-1-1-11-7-김유찬.wav',\n",
       "              'r-1-1-11-7-박영진.wav',\n",
       "              'r-1-1-11-7-전소형.wav',\n",
       "              'r-1-1-11-8-김영운.wav',\n",
       "              'r-1-1-11-8-김유찬.wav',\n",
       "              'r-1-1-11-8-박영진.wav',\n",
       "              'r-1-1-11-8-전소형.wav',\n",
       "              'r-1-1-11-9-김영운.wav',\n",
       "              'r-1-1-11-9-김유찬.wav',\n",
       "              'r-1-1-11-9-박영진.wav',\n",
       "              'r-1-1-11-9-전소형.wav',\n",
       "              'r-1-1-12-1-김유찬.wav',\n",
       "              'r-1-1-12-1-박영진.wav',\n",
       "              'r-1-1-12-1-전소형.wav',\n",
       "              'r-1-1-12-10-김유찬.wav',\n",
       "              'r-1-1-12-10-박영진.wav',\n",
       "              'r-1-1-12-10-전소형.wav',\n",
       "              'r-1-1-12-11-김유찬.wav',\n",
       "              'r-1-1-12-11-박영진.wav',\n",
       "              'r-1-1-12-11-전소형.wav',\n",
       "              'r-1-1-12-12-김유찬.wav',\n",
       "              'r-1-1-12-12-박영진.wav',\n",
       "              'r-1-1-12-12-전소형.wav',\n",
       "              'r-1-1-12-2-김유찬.wav',\n",
       "              'r-1-1-12-2-박영진.wav',\n",
       "              'r-1-1-12-2-전소형.wav',\n",
       "              'r-1-1-12-3-김유찬.wav',\n",
       "              'r-1-1-12-3-박영진.wav',\n",
       "              'r-1-1-12-3-전소형.wav',\n",
       "              'r-1-1-12-4-김유찬.wav',\n",
       "              'r-1-1-12-4-박영진.wav',\n",
       "              'r-1-1-12-4-전소형.wav',\n",
       "              'r-1-1-12-5-김유찬.wav',\n",
       "              'r-1-1-12-5-박영진.wav',\n",
       "              'r-1-1-12-6-김유찬.wav',\n",
       "              'r-1-1-12-6-박영진.wav',\n",
       "              'r-1-1-12-7-김영운.wav',\n",
       "              'r-1-1-12-7-김유찬.wav',\n",
       "              'r-1-1-12-7-박영진.wav',\n",
       "              'r-1-1-12-7-전소형.wav',\n",
       "              'r-1-1-12-8-김영운.wav',\n",
       "              'r-1-1-12-8-김유찬.wav',\n",
       "              'r-1-1-12-8-박영진.wav',\n",
       "              'r-1-1-12-8-전소형.wav',\n",
       "              'r-1-1-12-9-김영운.wav',\n",
       "              'r-1-1-12-9-김유찬.wav',\n",
       "              'r-1-1-12-9-박영진.wav',\n",
       "              'r-1-1-12-9-전소형.wav',\n",
       "              'r-1-1-13-1-김유찬.wav',\n",
       "              'r-1-1-13-1-박영진.wav',\n",
       "              'r-1-1-13-1-전소형.wav',\n",
       "              'r-1-1-13-10-김유찬.wav',\n",
       "              'r-1-1-13-10-박영진.wav',\n",
       "              'r-1-1-13-10-전소형.wav',\n",
       "              'r-1-1-13-11-김유찬.wav',\n",
       "              'r-1-1-13-11-박영진.wav',\n",
       "              'r-1-1-13-11-전소형.wav',\n",
       "              'r-1-1-13-12-김유찬.wav',\n",
       "              'r-1-1-13-12-박영진.wav',\n",
       "              'r-1-1-13-12-전소형.wav',\n",
       "              'r-1-1-13-2-김유찬.wav',\n",
       "              'r-1-1-13-2-박영진.wav',\n",
       "              'r-1-1-13-2-전소형.wav',\n",
       "              'r-1-1-13-3-김유찬.wav',\n",
       "              'r-1-1-13-3-박영진.wav',\n",
       "              'r-1-1-13-3-전소형.wav',\n",
       "              'r-1-1-13-4-김유찬.wav',\n",
       "              'r-1-1-13-4-박영진.wav',\n",
       "              'r-1-1-13-4-전소형.wav',\n",
       "              'r-1-1-13-5-김유찬.wav',\n",
       "              'r-1-1-13-5-박영진.wav',\n",
       "              'r-1-1-13-5-전소형.wav',\n",
       "              'r-1-1-13-6-김유찬.wav',\n",
       "              'r-1-1-13-6-박영진.wav',\n",
       "              'r-1-1-13-6-전소형.wav',\n",
       "              'r-1-1-13-7-김영운.wav',\n",
       "              'r-1-1-13-7-김유찬.wav',\n",
       "              'r-1-1-13-7-박영진.wav',\n",
       "              'r-1-1-13-7-전소형.wav',\n",
       "              'r-1-1-13-8-김영운.wav',\n",
       "              'r-1-1-13-8-김유찬.wav',\n",
       "              'r-1-1-13-8-박영진.wav',\n",
       "              'r-1-1-13-8-전소형.wav',\n",
       "              'r-1-1-13-9-김영운.wav',\n",
       "              'r-1-1-13-9-김유찬.wav',\n",
       "              'r-1-1-13-9-박영진.wav',\n",
       "              'r-1-1-13-9-전소형.wav'],\n",
       "             \"Error occured while handling the corresponding xlsx: 'int' object is not subscriptable\": ['r-1-1-11-5-위태진.wav',\n",
       "              'r-1-1-12-5-전소형.wav',\n",
       "              'r-1-1-12-6-전소형.wav'],\n",
       "             'Error occured while handling the corresponding docx': ['r-1-1-13-13-김영은.wav']})"
      ]
     },
     "execution_count": 15,
     "metadata": {},
     "output_type": "execute_result"
    }
   ],
   "source": [
    "error_list = meta_creator.error_list\n",
    "dict_list = meta_creator.error_dict\n",
    "print(len(error_list))\n",
    "dict_list"
   ]
  },
  {
   "cell_type": "code",
   "execution_count": 20,
   "metadata": {},
   "outputs": [
    {
     "data": {
      "text/plain": [
       "1572"
      ]
     },
     "execution_count": 20,
     "metadata": {},
     "output_type": "execute_result"
    }
   ],
   "source": [
    "prediction_path = Path('translated_meta_prediction_threshold0.05_0to1573.json')\n",
    "with open(prediction_path, 'r') as f:\n",
    "  pred_json = json.load(f)\n",
    "len(pred_json)"
   ]
  },
  {
   "cell_type": "code",
   "execution_count": 21,
   "metadata": {},
   "outputs": [
    {
     "data": {
      "text/plain": [
       "{'분류 번호': '2-3-54',\n",
       " '제목': '서부 총잡이 도시',\n",
       " '녹음/제작자 성명': '가민지',\n",
       " '녹음/제작 연/월/일': '2022.07.31',\n",
       " '사용 기자재': 'Ableton Live DAW',\n",
       " '오디오 포맷': '스테레오 - wav (96k, 24bit)',\n",
       " '제작 장소': '서산시 동문동',\n",
       " '보안 이슈': '없음',\n",
       " '자료 제공자 정보': '성명: 000\\n연령: 000'}"
      ]
     },
     "execution_count": 21,
     "metadata": {},
     "output_type": "execute_result"
    }
   ],
   "source": [
    "docx_path = '/home/clay/label_studio_files/data_v4/03/metadata/fs-2-3-54-1-가민지.docx'\n",
    "meta_creator.read_table_from_docx(docx_path)"
   ]
  },
  {
   "cell_type": "code",
   "execution_count": 9,
   "metadata": {},
   "outputs": [
    {
     "data": {
      "text/plain": [
       "{'분류 번호': '2-3-54',\n",
       " '제목': '서부 총잡이 도시',\n",
       " '녹음/제작자 성명': '가민지',\n",
       " '녹음/제작 연/월/일': '2022.07.31',\n",
       " '사용 기자재': 'Ableton Live DAW',\n",
       " '오디오 포맷': '스테레오 - wav (96k, 24bit)',\n",
       " '제작 장소': '서산시 동문동',\n",
       " '보안 이슈': '없음',\n",
       " '자료 제공자 정보': '성명: 000\\n연령: 000'}"
      ]
     },
     "execution_count": 9,
     "metadata": {},
     "output_type": "execute_result"
    }
   ],
   "source": [
    "document = Document(docx_path)\n",
    "table = document.tables[0]\n",
    "table_dict = {row.cells[0].text:row.cells[1].text for row in table.rows[1:]}\n",
    "\n",
    "table_dict"
   ]
  },
  {
   "cell_type": "code",
   "execution_count": 10,
   "metadata": {},
   "outputs": [
    {
     "name": "stdout",
     "output_type": "stream",
     "text": [
      "\n",
      "2-3-54\n",
      "서부 총잡이 도시\n",
      "가민지\n",
      "2022.07.31\n",
      "Ableton Live DAW\n",
      "스테레오 - wav (96k, 24bit)\n",
      "서산시 동문동\n",
      "없음\n",
      "성명: 000\n",
      "연령: 000\n"
     ]
    }
   ],
   "source": [
    "for row in table.rows:\n",
    "  print(row.cells[1].text)"
   ]
  },
  {
   "cell_type": "code",
   "execution_count": 110,
   "metadata": {},
   "outputs": [
    {
     "name": "stdout",
     "output_type": "stream",
     "text": [
      "<docx.table._Row object at 0x7fc827c32280>\n",
      "분류 번호\n",
      "<docx.table._Row object at 0x7fc827c825b0>\n",
      "마곡 코트야드 호텔 뷔페 옆 큰 공간\n",
      "<docx.table._Row object at 0x7fc827bc2fa0>\n",
      "녹음 연/월/일\n",
      "<docx.table._Row object at 0x7fc827c7beb0>\n",
      "Zoom H6 레코더, 윈드쉴드, 헤드셋\n",
      "<docx.table._Row object at 0x7fc827bc2d30>\n",
      "오디오 길이\n",
      "<docx.table._Row object at 0x7fc827c2d940>\n",
      "서울시 강서구 마곡중앙 12로\n",
      "<docx.table._Row object at 0x7fc827c2de50>\n",
      "음원으로부터의 거리\n",
      "<docx.table._Row object at 0x7fc827ca8e20>\n",
      "약간 흐림\n",
      "<docx.table._Row object at 0x7fc827ca82b0>\n",
      "보안 이슈\n",
      "<docx.table._Row object at 0x7fc827ca8100>\n",
      "호텔 음악소리 살짝 섞임\n",
      "<docx.table._Row object at 0x7fc827ca8130>\n",
      "<docx.table._Row object at 0x7fc827c877c0>\n",
      "<docx.table._Row object at 0x7fc827ca81c0>\n",
      "<docx.table._Row object at 0x7fc827ca8070>\n",
      "<docx.table._Row object at 0x7fc827c87bb0>\n"
     ]
    }
   ],
   "source": [
    "count = 0\n",
    "\n",
    "document = Document(docx_path)\n",
    "table = document.tables[0]\n",
    "for row in table.rows:\n",
    "  print(row)\n",
    "  try:\n",
    "    print(row.cells[2].text)\n",
    "  except:\n",
    "    continue\n",
    "  \n",
    "  '''\n",
    "  if count != 0:\n",
    "    print(row.cells)\n",
    "  count += 1\n",
    "  '''\n"
   ]
  },
  {
   "cell_type": "code",
   "execution_count": 18,
   "metadata": {},
   "outputs": [
    {
     "ename": "TypeError",
     "evalue": "expected <class 'str'>",
     "output_type": "error",
     "traceback": [
      "\u001b[0;31m---------------------------------------------------------------------------\u001b[0m",
      "\u001b[0;31mTypeError\u001b[0m                                 Traceback (most recent call last)",
      "\u001b[1;32m/home/clay/userdata/nia-sound-event-1/notebook/create_metadata.ipynb 셀 11\u001b[0m in \u001b[0;36m<module>\u001b[0;34m\u001b[0m\n\u001b[1;32m      <a href='vscode-notebook-cell://ssh-remote%2B163.239.104.244/home/clay/userdata/nia-sound-event-1/notebook/create_metadata.ipynb#X13sdnNjb2RlLXJlbW90ZQ%3D%3D?line=0'>1</a>\u001b[0m excel_path \u001b[39m=\u001b[39m \u001b[39m'\u001b[39m\u001b[39m/home/clay/label_studio_files/data_v4/04/metadata/fs-2-3-56-1-이상화.xlsx\u001b[39m\u001b[39m'\u001b[39m\n\u001b[0;32m----> <a href='vscode-notebook-cell://ssh-remote%2B163.239.104.244/home/clay/userdata/nia-sound-event-1/notebook/create_metadata.ipynb#X13sdnNjb2RlLXJlbW90ZQ%3D%3D?line=1'>2</a>\u001b[0m detailed_meta \u001b[39m=\u001b[39m pd\u001b[39m.\u001b[39;49mread_excel(excel_path, index_col\u001b[39m=\u001b[39;49m\u001b[39m0\u001b[39;49m)\n\u001b[1;32m      <a href='vscode-notebook-cell://ssh-remote%2B163.239.104.244/home/clay/userdata/nia-sound-event-1/notebook/create_metadata.ipynb#X13sdnNjb2RlLXJlbW90ZQ%3D%3D?line=2'>3</a>\u001b[0m detailed_meta\n",
      "File \u001b[0;32m/usr/local/lib/python3.8/dist-packages/pandas/util/_decorators.py:311\u001b[0m, in \u001b[0;36mdeprecate_nonkeyword_arguments.<locals>.decorate.<locals>.wrapper\u001b[0;34m(*args, **kwargs)\u001b[0m\n\u001b[1;32m    305\u001b[0m \u001b[39mif\u001b[39;00m \u001b[39mlen\u001b[39m(args) \u001b[39m>\u001b[39m num_allow_args:\n\u001b[1;32m    306\u001b[0m     warnings\u001b[39m.\u001b[39mwarn(\n\u001b[1;32m    307\u001b[0m         msg\u001b[39m.\u001b[39mformat(arguments\u001b[39m=\u001b[39marguments),\n\u001b[1;32m    308\u001b[0m         \u001b[39mFutureWarning\u001b[39;00m,\n\u001b[1;32m    309\u001b[0m         stacklevel\u001b[39m=\u001b[39mstacklevel,\n\u001b[1;32m    310\u001b[0m     )\n\u001b[0;32m--> 311\u001b[0m \u001b[39mreturn\u001b[39;00m func(\u001b[39m*\u001b[39;49margs, \u001b[39m*\u001b[39;49m\u001b[39m*\u001b[39;49mkwargs)\n",
      "File \u001b[0;32m/usr/local/lib/python3.8/dist-packages/pandas/io/excel/_base.py:364\u001b[0m, in \u001b[0;36mread_excel\u001b[0;34m(io, sheet_name, header, names, index_col, usecols, squeeze, dtype, engine, converters, true_values, false_values, skiprows, nrows, na_values, keep_default_na, na_filter, verbose, parse_dates, date_parser, thousands, comment, skipfooter, convert_float, mangle_dupe_cols, storage_options)\u001b[0m\n\u001b[1;32m    362\u001b[0m \u001b[39mif\u001b[39;00m \u001b[39mnot\u001b[39;00m \u001b[39misinstance\u001b[39m(io, ExcelFile):\n\u001b[1;32m    363\u001b[0m     should_close \u001b[39m=\u001b[39m \u001b[39mTrue\u001b[39;00m\n\u001b[0;32m--> 364\u001b[0m     io \u001b[39m=\u001b[39m ExcelFile(io, storage_options\u001b[39m=\u001b[39;49mstorage_options, engine\u001b[39m=\u001b[39;49mengine)\n\u001b[1;32m    365\u001b[0m \u001b[39melif\u001b[39;00m engine \u001b[39mand\u001b[39;00m engine \u001b[39m!=\u001b[39m io\u001b[39m.\u001b[39mengine:\n\u001b[1;32m    366\u001b[0m     \u001b[39mraise\u001b[39;00m \u001b[39mValueError\u001b[39;00m(\n\u001b[1;32m    367\u001b[0m         \u001b[39m\"\u001b[39m\u001b[39mEngine should not be specified when passing \u001b[39m\u001b[39m\"\u001b[39m\n\u001b[1;32m    368\u001b[0m         \u001b[39m\"\u001b[39m\u001b[39man ExcelFile - ExcelFile already has the engine set\u001b[39m\u001b[39m\"\u001b[39m\n\u001b[1;32m    369\u001b[0m     )\n",
      "File \u001b[0;32m/usr/local/lib/python3.8/dist-packages/pandas/io/excel/_base.py:1233\u001b[0m, in \u001b[0;36mExcelFile.__init__\u001b[0;34m(self, path_or_buffer, engine, storage_options)\u001b[0m\n\u001b[1;32m   1230\u001b[0m \u001b[39mself\u001b[39m\u001b[39m.\u001b[39mengine \u001b[39m=\u001b[39m engine\n\u001b[1;32m   1231\u001b[0m \u001b[39mself\u001b[39m\u001b[39m.\u001b[39mstorage_options \u001b[39m=\u001b[39m storage_options\n\u001b[0;32m-> 1233\u001b[0m \u001b[39mself\u001b[39m\u001b[39m.\u001b[39m_reader \u001b[39m=\u001b[39m \u001b[39mself\u001b[39;49m\u001b[39m.\u001b[39;49m_engines[engine](\u001b[39mself\u001b[39;49m\u001b[39m.\u001b[39;49m_io, storage_options\u001b[39m=\u001b[39;49mstorage_options)\n",
      "File \u001b[0;32m/usr/local/lib/python3.8/dist-packages/pandas/io/excel/_openpyxl.py:522\u001b[0m, in \u001b[0;36mOpenpyxlReader.__init__\u001b[0;34m(self, filepath_or_buffer, storage_options)\u001b[0m\n\u001b[1;32m    511\u001b[0m \u001b[39m\"\"\"\u001b[39;00m\n\u001b[1;32m    512\u001b[0m \u001b[39mReader using openpyxl engine.\u001b[39;00m\n\u001b[1;32m    513\u001b[0m \n\u001b[0;32m   (...)\u001b[0m\n\u001b[1;32m    519\u001b[0m \u001b[39m    passed to fsspec for appropriate URLs (see ``_get_filepath_or_buffer``)\u001b[39;00m\n\u001b[1;32m    520\u001b[0m \u001b[39m\"\"\"\u001b[39;00m\n\u001b[1;32m    521\u001b[0m import_optional_dependency(\u001b[39m\"\u001b[39m\u001b[39mopenpyxl\u001b[39m\u001b[39m\"\u001b[39m)\n\u001b[0;32m--> 522\u001b[0m \u001b[39msuper\u001b[39;49m()\u001b[39m.\u001b[39;49m\u001b[39m__init__\u001b[39;49m(filepath_or_buffer, storage_options\u001b[39m=\u001b[39;49mstorage_options)\n",
      "File \u001b[0;32m/usr/local/lib/python3.8/dist-packages/pandas/io/excel/_base.py:420\u001b[0m, in \u001b[0;36mBaseExcelReader.__init__\u001b[0;34m(self, filepath_or_buffer, storage_options)\u001b[0m\n\u001b[1;32m    418\u001b[0m \u001b[39mself\u001b[39m\u001b[39m.\u001b[39mhandles\u001b[39m.\u001b[39mhandle\u001b[39m.\u001b[39mseek(\u001b[39m0\u001b[39m)\n\u001b[1;32m    419\u001b[0m \u001b[39mtry\u001b[39;00m:\n\u001b[0;32m--> 420\u001b[0m     \u001b[39mself\u001b[39m\u001b[39m.\u001b[39mbook \u001b[39m=\u001b[39m \u001b[39mself\u001b[39;49m\u001b[39m.\u001b[39;49mload_workbook(\u001b[39mself\u001b[39;49m\u001b[39m.\u001b[39;49mhandles\u001b[39m.\u001b[39;49mhandle)\n\u001b[1;32m    421\u001b[0m \u001b[39mexcept\u001b[39;00m \u001b[39mException\u001b[39;00m:\n\u001b[1;32m    422\u001b[0m     \u001b[39mself\u001b[39m\u001b[39m.\u001b[39mclose()\n",
      "File \u001b[0;32m/usr/local/lib/python3.8/dist-packages/pandas/io/excel/_openpyxl.py:533\u001b[0m, in \u001b[0;36mOpenpyxlReader.load_workbook\u001b[0;34m(self, filepath_or_buffer)\u001b[0m\n\u001b[1;32m    530\u001b[0m \u001b[39mdef\u001b[39;00m \u001b[39mload_workbook\u001b[39m(\u001b[39mself\u001b[39m, filepath_or_buffer: FilePathOrBuffer):\n\u001b[1;32m    531\u001b[0m     \u001b[39mfrom\u001b[39;00m \u001b[39mopenpyxl\u001b[39;00m \u001b[39mimport\u001b[39;00m load_workbook\n\u001b[0;32m--> 533\u001b[0m     \u001b[39mreturn\u001b[39;00m load_workbook(\n\u001b[1;32m    534\u001b[0m         filepath_or_buffer, read_only\u001b[39m=\u001b[39;49m\u001b[39mTrue\u001b[39;49;00m, data_only\u001b[39m=\u001b[39;49m\u001b[39mTrue\u001b[39;49;00m, keep_links\u001b[39m=\u001b[39;49m\u001b[39mFalse\u001b[39;49;00m\n\u001b[1;32m    535\u001b[0m     )\n",
      "File \u001b[0;32m~/.local/lib/python3.8/site-packages/openpyxl/reader/excel.py:317\u001b[0m, in \u001b[0;36mload_workbook\u001b[0;34m(filename, read_only, keep_vba, data_only, keep_links)\u001b[0m\n\u001b[1;32m    290\u001b[0m \u001b[39m\"\"\"Open the given filename and return the workbook\u001b[39;00m\n\u001b[1;32m    291\u001b[0m \n\u001b[1;32m    292\u001b[0m \u001b[39m:param filename: the path to open or a file-like object\u001b[39;00m\n\u001b[0;32m   (...)\u001b[0m\n\u001b[1;32m    313\u001b[0m \n\u001b[1;32m    314\u001b[0m \u001b[39m\"\"\"\u001b[39;00m\n\u001b[1;32m    315\u001b[0m reader \u001b[39m=\u001b[39m ExcelReader(filename, read_only, keep_vba,\n\u001b[1;32m    316\u001b[0m                     data_only, keep_links)\n\u001b[0;32m--> 317\u001b[0m reader\u001b[39m.\u001b[39;49mread()\n\u001b[1;32m    318\u001b[0m \u001b[39mreturn\u001b[39;00m reader\u001b[39m.\u001b[39mwb\n",
      "File \u001b[0;32m~/.local/lib/python3.8/site-packages/openpyxl/reader/excel.py:281\u001b[0m, in \u001b[0;36mExcelReader.read\u001b[0;34m(self)\u001b[0m\n\u001b[1;32m    279\u001b[0m \u001b[39mself\u001b[39m\u001b[39m.\u001b[39mread_properties()\n\u001b[1;32m    280\u001b[0m \u001b[39mself\u001b[39m\u001b[39m.\u001b[39mread_theme()\n\u001b[0;32m--> 281\u001b[0m apply_stylesheet(\u001b[39mself\u001b[39;49m\u001b[39m.\u001b[39;49marchive, \u001b[39mself\u001b[39;49m\u001b[39m.\u001b[39;49mwb)\n\u001b[1;32m    282\u001b[0m \u001b[39mself\u001b[39m\u001b[39m.\u001b[39mread_worksheets()\n\u001b[1;32m    283\u001b[0m \u001b[39mself\u001b[39m\u001b[39m.\u001b[39mparser\u001b[39m.\u001b[39massign_names()\n",
      "File \u001b[0;32m~/.local/lib/python3.8/site-packages/openpyxl/styles/stylesheet.py:198\u001b[0m, in \u001b[0;36mapply_stylesheet\u001b[0;34m(archive, wb)\u001b[0m\n\u001b[1;32m    195\u001b[0m     \u001b[39mreturn\u001b[39;00m wb\n\u001b[1;32m    197\u001b[0m node \u001b[39m=\u001b[39m fromstring(src)\n\u001b[0;32m--> 198\u001b[0m stylesheet \u001b[39m=\u001b[39m Stylesheet\u001b[39m.\u001b[39;49mfrom_tree(node)\n\u001b[1;32m    200\u001b[0m \u001b[39mif\u001b[39;00m stylesheet\u001b[39m.\u001b[39mcell_styles:\n\u001b[1;32m    202\u001b[0m     wb\u001b[39m.\u001b[39m_borders \u001b[39m=\u001b[39m IndexedList(stylesheet\u001b[39m.\u001b[39mborders)\n",
      "File \u001b[0;32m~/.local/lib/python3.8/site-packages/openpyxl/styles/stylesheet.py:103\u001b[0m, in \u001b[0;36mStylesheet.from_tree\u001b[0;34m(cls, node)\u001b[0m\n\u001b[1;32m    101\u001b[0m \u001b[39mfor\u001b[39;00m k \u001b[39min\u001b[39;00m attrs:\n\u001b[1;32m    102\u001b[0m     \u001b[39mdel\u001b[39;00m node\u001b[39m.\u001b[39mattrib[k]\n\u001b[0;32m--> 103\u001b[0m \u001b[39mreturn\u001b[39;00m \u001b[39msuper\u001b[39;49m(Stylesheet, \u001b[39mcls\u001b[39;49m)\u001b[39m.\u001b[39;49mfrom_tree(node)\n",
      "File \u001b[0;32m~/.local/lib/python3.8/site-packages/openpyxl/descriptors/serialisable.py:87\u001b[0m, in \u001b[0;36mSerialisable.from_tree\u001b[0;34m(cls, node)\u001b[0m\n\u001b[1;32m     84\u001b[0m \u001b[39melse\u001b[39;00m:\n\u001b[1;32m     85\u001b[0m     \u001b[39mif\u001b[39;00m \u001b[39mhasattr\u001b[39m(desc\u001b[39m.\u001b[39mexpected_type, \u001b[39m\"\u001b[39m\u001b[39mfrom_tree\u001b[39m\u001b[39m\"\u001b[39m):\n\u001b[1;32m     86\u001b[0m         \u001b[39m#complex type\u001b[39;00m\n\u001b[0;32m---> 87\u001b[0m         obj \u001b[39m=\u001b[39m desc\u001b[39m.\u001b[39;49mexpected_type\u001b[39m.\u001b[39;49mfrom_tree(el)\n\u001b[1;32m     88\u001b[0m     \u001b[39melse\u001b[39;00m:\n\u001b[1;32m     89\u001b[0m         \u001b[39m#primitive\u001b[39;00m\n\u001b[1;32m     90\u001b[0m         obj \u001b[39m=\u001b[39m el\u001b[39m.\u001b[39mtext\n",
      "File \u001b[0;32m~/.local/lib/python3.8/site-packages/openpyxl/descriptors/serialisable.py:87\u001b[0m, in \u001b[0;36mSerialisable.from_tree\u001b[0;34m(cls, node)\u001b[0m\n\u001b[1;32m     84\u001b[0m \u001b[39melse\u001b[39;00m:\n\u001b[1;32m     85\u001b[0m     \u001b[39mif\u001b[39;00m \u001b[39mhasattr\u001b[39m(desc\u001b[39m.\u001b[39mexpected_type, \u001b[39m\"\u001b[39m\u001b[39mfrom_tree\u001b[39m\u001b[39m\"\u001b[39m):\n\u001b[1;32m     86\u001b[0m         \u001b[39m#complex type\u001b[39;00m\n\u001b[0;32m---> 87\u001b[0m         obj \u001b[39m=\u001b[39m desc\u001b[39m.\u001b[39;49mexpected_type\u001b[39m.\u001b[39;49mfrom_tree(el)\n\u001b[1;32m     88\u001b[0m     \u001b[39melse\u001b[39;00m:\n\u001b[1;32m     89\u001b[0m         \u001b[39m#primitive\u001b[39;00m\n\u001b[1;32m     90\u001b[0m         obj \u001b[39m=\u001b[39m el\u001b[39m.\u001b[39mtext\n",
      "File \u001b[0;32m~/.local/lib/python3.8/site-packages/openpyxl/descriptors/serialisable.py:103\u001b[0m, in \u001b[0;36mSerialisable.from_tree\u001b[0;34m(cls, node)\u001b[0m\n\u001b[1;32m    100\u001b[0m     \u001b[39melse\u001b[39;00m:\n\u001b[1;32m    101\u001b[0m         attrib[tag] \u001b[39m=\u001b[39m obj\n\u001b[0;32m--> 103\u001b[0m \u001b[39mreturn\u001b[39;00m \u001b[39mcls\u001b[39;49m(\u001b[39m*\u001b[39;49m\u001b[39m*\u001b[39;49mattrib)\n",
      "File \u001b[0;32m~/.local/lib/python3.8/site-packages/openpyxl/styles/named_styles.py:229\u001b[0m, in \u001b[0;36m_NamedCellStyle.__init__\u001b[0;34m(self, name, xfId, builtinId, iLevel, hidden, customBuiltin, extLst)\u001b[0m\n\u001b[1;32m    220\u001b[0m \u001b[39mdef\u001b[39;00m \u001b[39m__init__\u001b[39m(\u001b[39mself\u001b[39m,\n\u001b[1;32m    221\u001b[0m              name\u001b[39m=\u001b[39m\u001b[39mNone\u001b[39;00m,\n\u001b[1;32m    222\u001b[0m              xfId\u001b[39m=\u001b[39m\u001b[39mNone\u001b[39;00m,\n\u001b[0;32m   (...)\u001b[0m\n\u001b[1;32m    227\u001b[0m              extLst\u001b[39m=\u001b[39m\u001b[39mNone\u001b[39;00m,\n\u001b[1;32m    228\u001b[0m             ):\n\u001b[0;32m--> 229\u001b[0m     \u001b[39mself\u001b[39m\u001b[39m.\u001b[39mname \u001b[39m=\u001b[39m name\n\u001b[1;32m    230\u001b[0m     \u001b[39mself\u001b[39m\u001b[39m.\u001b[39mxfId \u001b[39m=\u001b[39m xfId\n\u001b[1;32m    231\u001b[0m     \u001b[39mself\u001b[39m\u001b[39m.\u001b[39mbuiltinId \u001b[39m=\u001b[39m builtinId\n",
      "File \u001b[0;32m~/.local/lib/python3.8/site-packages/openpyxl/descriptors/base.py:42\u001b[0m, in \u001b[0;36mTyped.__set__\u001b[0;34m(self, instance, value)\u001b[0m\n\u001b[1;32m     39\u001b[0m \u001b[39mif\u001b[39;00m \u001b[39mnot\u001b[39;00m \u001b[39misinstance\u001b[39m(value, \u001b[39mself\u001b[39m\u001b[39m.\u001b[39mexpected_type):\n\u001b[1;32m     40\u001b[0m     \u001b[39mif\u001b[39;00m (\u001b[39mnot\u001b[39;00m \u001b[39mself\u001b[39m\u001b[39m.\u001b[39mallow_none\n\u001b[1;32m     41\u001b[0m         \u001b[39mor\u001b[39;00m (\u001b[39mself\u001b[39m\u001b[39m.\u001b[39mallow_none \u001b[39mand\u001b[39;00m value \u001b[39mis\u001b[39;00m \u001b[39mnot\u001b[39;00m \u001b[39mNone\u001b[39;00m)):\n\u001b[0;32m---> 42\u001b[0m         \u001b[39mraise\u001b[39;00m \u001b[39mTypeError\u001b[39;00m(\u001b[39m'\u001b[39m\u001b[39mexpected \u001b[39m\u001b[39m'\u001b[39m \u001b[39m+\u001b[39m \u001b[39mstr\u001b[39m(\u001b[39mself\u001b[39m\u001b[39m.\u001b[39mexpected_type))\n\u001b[1;32m     43\u001b[0m \u001b[39msuper\u001b[39m(Typed, \u001b[39mself\u001b[39m)\u001b[39m.\u001b[39m\u001b[39m__set__\u001b[39m(instance, value)\n",
      "\u001b[0;31mTypeError\u001b[0m: expected <class 'str'>"
     ]
    }
   ],
   "source": [
    "excel_path = '/home/clay/label_studio_files/data_v4/04/metadata/fs-2-3-56-1-이상화.xlsx'\n",
    "detailed_meta = pd.read_excel(excel_path, index_col=0)\n",
    "detailed_meta"
   ]
  },
  {
   "cell_type": "code",
   "execution_count": 17,
   "metadata": {},
   "outputs": [
    {
     "ename": "FileNotFoundError",
     "evalue": "[Errno 2] No such file or directory: '/home/clay/userdata/nia_dataset/data_v4/01/metadata/fs-2-3-56-1-김규동.xlsx'",
     "output_type": "error",
     "traceback": [
      "\u001b[0;31m---------------------------------------------------------------------------\u001b[0m",
      "\u001b[0;31mFileNotFoundError\u001b[0m                         Traceback (most recent call last)",
      "\u001b[1;32m/home/clay/userdata/nia-sound-event-1/notebook/create_metadata.ipynb 셀 12\u001b[0m in \u001b[0;36m<module>\u001b[0;34m\u001b[0m\n\u001b[1;32m      <a href='vscode-notebook-cell://ssh-remote%2B163.239.104.244/home/clay/userdata/nia-sound-event-1/notebook/create_metadata.ipynb#X14sdnNjb2RlLXJlbW90ZQ%3D%3D?line=0'>1</a>\u001b[0m excel_path \u001b[39m=\u001b[39m \u001b[39m'\u001b[39m\u001b[39m/home/clay/userdata/nia_dataset/data_v4/01/metadata/fs-2-3-56-1-김규동.xlsx\u001b[39m\u001b[39m'\u001b[39m\n\u001b[0;32m----> <a href='vscode-notebook-cell://ssh-remote%2B163.239.104.244/home/clay/userdata/nia-sound-event-1/notebook/create_metadata.ipynb#X14sdnNjb2RlLXJlbW90ZQ%3D%3D?line=1'>2</a>\u001b[0m detailed_meta \u001b[39m=\u001b[39m pd\u001b[39m.\u001b[39;49mread_excel(excel_path, index_col\u001b[39m=\u001b[39;49m\u001b[39m0\u001b[39;49m)\n\u001b[1;32m      <a href='vscode-notebook-cell://ssh-remote%2B163.239.104.244/home/clay/userdata/nia-sound-event-1/notebook/create_metadata.ipynb#X14sdnNjb2RlLXJlbW90ZQ%3D%3D?line=2'>3</a>\u001b[0m detailed_meta\n",
      "File \u001b[0;32m/usr/local/lib/python3.8/dist-packages/pandas/util/_decorators.py:311\u001b[0m, in \u001b[0;36mdeprecate_nonkeyword_arguments.<locals>.decorate.<locals>.wrapper\u001b[0;34m(*args, **kwargs)\u001b[0m\n\u001b[1;32m    305\u001b[0m \u001b[39mif\u001b[39;00m \u001b[39mlen\u001b[39m(args) \u001b[39m>\u001b[39m num_allow_args:\n\u001b[1;32m    306\u001b[0m     warnings\u001b[39m.\u001b[39mwarn(\n\u001b[1;32m    307\u001b[0m         msg\u001b[39m.\u001b[39mformat(arguments\u001b[39m=\u001b[39marguments),\n\u001b[1;32m    308\u001b[0m         \u001b[39mFutureWarning\u001b[39;00m,\n\u001b[1;32m    309\u001b[0m         stacklevel\u001b[39m=\u001b[39mstacklevel,\n\u001b[1;32m    310\u001b[0m     )\n\u001b[0;32m--> 311\u001b[0m \u001b[39mreturn\u001b[39;00m func(\u001b[39m*\u001b[39;49margs, \u001b[39m*\u001b[39;49m\u001b[39m*\u001b[39;49mkwargs)\n",
      "File \u001b[0;32m/usr/local/lib/python3.8/dist-packages/pandas/io/excel/_base.py:364\u001b[0m, in \u001b[0;36mread_excel\u001b[0;34m(io, sheet_name, header, names, index_col, usecols, squeeze, dtype, engine, converters, true_values, false_values, skiprows, nrows, na_values, keep_default_na, na_filter, verbose, parse_dates, date_parser, thousands, comment, skipfooter, convert_float, mangle_dupe_cols, storage_options)\u001b[0m\n\u001b[1;32m    362\u001b[0m \u001b[39mif\u001b[39;00m \u001b[39mnot\u001b[39;00m \u001b[39misinstance\u001b[39m(io, ExcelFile):\n\u001b[1;32m    363\u001b[0m     should_close \u001b[39m=\u001b[39m \u001b[39mTrue\u001b[39;00m\n\u001b[0;32m--> 364\u001b[0m     io \u001b[39m=\u001b[39m ExcelFile(io, storage_options\u001b[39m=\u001b[39;49mstorage_options, engine\u001b[39m=\u001b[39;49mengine)\n\u001b[1;32m    365\u001b[0m \u001b[39melif\u001b[39;00m engine \u001b[39mand\u001b[39;00m engine \u001b[39m!=\u001b[39m io\u001b[39m.\u001b[39mengine:\n\u001b[1;32m    366\u001b[0m     \u001b[39mraise\u001b[39;00m \u001b[39mValueError\u001b[39;00m(\n\u001b[1;32m    367\u001b[0m         \u001b[39m\"\u001b[39m\u001b[39mEngine should not be specified when passing \u001b[39m\u001b[39m\"\u001b[39m\n\u001b[1;32m    368\u001b[0m         \u001b[39m\"\u001b[39m\u001b[39man ExcelFile - ExcelFile already has the engine set\u001b[39m\u001b[39m\"\u001b[39m\n\u001b[1;32m    369\u001b[0m     )\n",
      "File \u001b[0;32m/usr/local/lib/python3.8/dist-packages/pandas/io/excel/_base.py:1191\u001b[0m, in \u001b[0;36mExcelFile.__init__\u001b[0;34m(self, path_or_buffer, engine, storage_options)\u001b[0m\n\u001b[1;32m   1189\u001b[0m     ext \u001b[39m=\u001b[39m \u001b[39m\"\u001b[39m\u001b[39mxls\u001b[39m\u001b[39m\"\u001b[39m\n\u001b[1;32m   1190\u001b[0m \u001b[39melse\u001b[39;00m:\n\u001b[0;32m-> 1191\u001b[0m     ext \u001b[39m=\u001b[39m inspect_excel_format(\n\u001b[1;32m   1192\u001b[0m         content_or_path\u001b[39m=\u001b[39;49mpath_or_buffer, storage_options\u001b[39m=\u001b[39;49mstorage_options\n\u001b[1;32m   1193\u001b[0m     )\n\u001b[1;32m   1194\u001b[0m     \u001b[39mif\u001b[39;00m ext \u001b[39mis\u001b[39;00m \u001b[39mNone\u001b[39;00m:\n\u001b[1;32m   1195\u001b[0m         \u001b[39mraise\u001b[39;00m \u001b[39mValueError\u001b[39;00m(\n\u001b[1;32m   1196\u001b[0m             \u001b[39m\"\u001b[39m\u001b[39mExcel file format cannot be determined, you must specify \u001b[39m\u001b[39m\"\u001b[39m\n\u001b[1;32m   1197\u001b[0m             \u001b[39m\"\u001b[39m\u001b[39man engine manually.\u001b[39m\u001b[39m\"\u001b[39m\n\u001b[1;32m   1198\u001b[0m         )\n",
      "File \u001b[0;32m/usr/local/lib/python3.8/dist-packages/pandas/io/excel/_base.py:1070\u001b[0m, in \u001b[0;36minspect_excel_format\u001b[0;34m(content_or_path, storage_options)\u001b[0m\n\u001b[1;32m   1067\u001b[0m \u001b[39mif\u001b[39;00m \u001b[39misinstance\u001b[39m(content_or_path, \u001b[39mbytes\u001b[39m):\n\u001b[1;32m   1068\u001b[0m     content_or_path \u001b[39m=\u001b[39m BytesIO(content_or_path)\n\u001b[0;32m-> 1070\u001b[0m \u001b[39mwith\u001b[39;00m get_handle(\n\u001b[1;32m   1071\u001b[0m     content_or_path, \u001b[39m\"\u001b[39;49m\u001b[39mrb\u001b[39;49m\u001b[39m\"\u001b[39;49m, storage_options\u001b[39m=\u001b[39;49mstorage_options, is_text\u001b[39m=\u001b[39;49m\u001b[39mFalse\u001b[39;49;00m\n\u001b[1;32m   1072\u001b[0m ) \u001b[39mas\u001b[39;00m handle:\n\u001b[1;32m   1073\u001b[0m     stream \u001b[39m=\u001b[39m handle\u001b[39m.\u001b[39mhandle\n\u001b[1;32m   1074\u001b[0m     stream\u001b[39m.\u001b[39mseek(\u001b[39m0\u001b[39m)\n",
      "File \u001b[0;32m/usr/local/lib/python3.8/dist-packages/pandas/io/common.py:711\u001b[0m, in \u001b[0;36mget_handle\u001b[0;34m(path_or_buf, mode, encoding, compression, memory_map, is_text, errors, storage_options)\u001b[0m\n\u001b[1;32m    702\u001b[0m         handle \u001b[39m=\u001b[39m \u001b[39mopen\u001b[39m(\n\u001b[1;32m    703\u001b[0m             handle,\n\u001b[1;32m    704\u001b[0m             ioargs\u001b[39m.\u001b[39mmode,\n\u001b[0;32m   (...)\u001b[0m\n\u001b[1;32m    707\u001b[0m             newline\u001b[39m=\u001b[39m\u001b[39m\"\u001b[39m\u001b[39m\"\u001b[39m,\n\u001b[1;32m    708\u001b[0m         )\n\u001b[1;32m    709\u001b[0m     \u001b[39melse\u001b[39;00m:\n\u001b[1;32m    710\u001b[0m         \u001b[39m# Binary mode\u001b[39;00m\n\u001b[0;32m--> 711\u001b[0m         handle \u001b[39m=\u001b[39m \u001b[39mopen\u001b[39;49m(handle, ioargs\u001b[39m.\u001b[39;49mmode)\n\u001b[1;32m    712\u001b[0m     handles\u001b[39m.\u001b[39mappend(handle)\n\u001b[1;32m    714\u001b[0m \u001b[39m# Convert BytesIO or file objects passed with an encoding\u001b[39;00m\n",
      "\u001b[0;31mFileNotFoundError\u001b[0m: [Errno 2] No such file or directory: '/home/clay/userdata/nia_dataset/data_v4/01/metadata/fs-2-3-56-1-김규동.xlsx'"
     ]
    }
   ],
   "source": [
    "excel_path = '/home/clay/userdata/nia_dataset/data_v4/01/metadata/fs-2-3-56-1-김규동.xlsx'\n",
    "detailed_meta = pd.read_excel(excel_path, index_col=0)\n",
    "detailed_meta"
   ]
  },
  {
   "cell_type": "code",
   "execution_count": 115,
   "metadata": {},
   "outputs": [
    {
     "data": {
      "text/html": [
       "<div>\n",
       "<style scoped>\n",
       "    .dataframe tbody tr th:only-of-type {\n",
       "        vertical-align: middle;\n",
       "    }\n",
       "\n",
       "    .dataframe tbody tr th {\n",
       "        vertical-align: top;\n",
       "    }\n",
       "\n",
       "    .dataframe thead th {\n",
       "        text-align: right;\n",
       "    }\n",
       "</style>\n",
       "<table border=\"1\" class=\"dataframe\">\n",
       "  <thead>\n",
       "    <tr style=\"text-align: right;\">\n",
       "      <th></th>\n",
       "      <th>Unnamed: 1</th>\n",
       "    </tr>\n",
       "  </thead>\n",
       "  <tbody>\n",
       "    <tr>\n",
       "      <th>분류 번호</th>\n",
       "      <td>1(공간/환경)-1(항공기)-002(제트기)</td>\n",
       "    </tr>\n",
       "    <tr>\n",
       "      <th>제목</th>\n",
       "      <td>제트 엔진 소리</td>\n",
       "    </tr>\n",
       "    <tr>\n",
       "      <th>녹음/제작자 성명</th>\n",
       "      <td>김수환</td>\n",
       "    </tr>\n",
       "    <tr>\n",
       "      <th>녹음/제작 연/월/일</th>\n",
       "      <td>2022.07.17.</td>\n",
       "    </tr>\n",
       "    <tr>\n",
       "      <th>사용 기자재</th>\n",
       "      <td>Ableton Live DAW</td>\n",
       "    </tr>\n",
       "    <tr>\n",
       "      <th>오디오 포맷</th>\n",
       "      <td>스테레오 - wav (96k, 24bit) / mp3</td>\n",
       "    </tr>\n",
       "    <tr>\n",
       "      <th>오디오 길이</th>\n",
       "      <td>105초</td>\n",
       "    </tr>\n",
       "    <tr>\n",
       "      <th>제작 장소</th>\n",
       "      <td>서울시 금호로 107</td>\n",
       "    </tr>\n",
       "    <tr>\n",
       "      <th>보안 이슈</th>\n",
       "      <td>없음</td>\n",
       "    </tr>\n",
       "    <tr>\n",
       "      <th>자료 제공자 정보</th>\n",
       "      <td>Soundly</td>\n",
       "    </tr>\n",
       "  </tbody>\n",
       "</table>\n",
       "</div>"
      ],
      "text/plain": [
       "                                Unnamed: 1\n",
       "분류 번호             1(공간/환경)-1(항공기)-002(제트기)\n",
       "제목                                제트 엔진 소리\n",
       "녹음/제작자 성명                              김수환\n",
       "녹음/제작 연/월/일                    2022.07.17.\n",
       "사용 기자재                    Ableton Live DAW\n",
       "오디오 포맷       스테레오 - wav (96k, 24bit) / mp3\n",
       "오디오 길이                                105초\n",
       "제작 장소                          서울시 금호로 107\n",
       "보안 이슈                                   없음\n",
       "자료 제공자 정보                          Soundly"
      ]
     },
     "execution_count": 115,
     "metadata": {},
     "output_type": "execute_result"
    }
   ],
   "source": [
    "excel_path = '/home/clay/userdata/nia_dataset/data_v4/01/metadata/fs-2-4-75-1-김수환.xlsx'\n",
    "detailed_meta = pd.read_excel(excel_path, index_col=0)\n",
    "detailed_meta"
   ]
  },
  {
   "cell_type": "code",
   "execution_count": 17,
   "metadata": {},
   "outputs": [
    {
     "data": {
      "text/plain": [
       "(PosixPath('/home/clay/userdata/nia_dataset/data_v4/01'),\n",
       " PosixPath('/home/clay/userdata/nia_dataset/data_v4/01/mp3/fs-2-4-75-1-가민지.mp3'))"
      ]
     },
     "execution_count": 17,
     "metadata": {},
     "output_type": "execute_result"
    }
   ],
   "source": [
    "event_id = 0\n",
    "dataset = OnFlyAudio('/home/clay/userdata/nia_dataset/data_v4/01/')\n",
    "dataset.path, dataset.mp3_list[0]"
   ]
  },
  {
   "cell_type": "code",
   "execution_count": 19,
   "metadata": {},
   "outputs": [
    {
     "name": "stdout",
     "output_type": "stream",
     "text": [
      "mp3/fs-2-4-75-1-가민지.mp3\n"
     ]
    },
    {
     "data": {
      "text/plain": [
       "PosixPath('01/mp3/fs-2-4-75-1-가민지.mp3')"
      ]
     },
     "execution_count": 19,
     "metadata": {},
     "output_type": "execute_result"
    }
   ],
   "source": [
    "event_id = 0\n",
    "sample_path = dataset.mp3_list[event_id].relative_to(dataset.path)\n",
    "print(sample_path)\n",
    "sample_path = '01' / sample_path\n",
    "sample_path"
   ]
  },
  {
   "cell_type": "code",
   "execution_count": null,
   "metadata": {
    "scrolled": true
   },
   "outputs": [],
   "source": [
    "import numpy as np\n",
    "\n",
    "class AudioFeatureExtractor:\n",
    "  def __init__(self):\n",
    "    pass \n",
    "\n",
    "  def get_audio_features(self, y:np.ndarray, sr:int):\n",
    "    spec = self.get_spec(y, sr)\n",
    "    \n",
    "    spec_centroid = self.get_mean_and_std_of_audio_feature(spec, sr, librosa.feature.spectral_centroid, 'spectral centroid')\n",
    "    \n",
    "    spec_centroid.update(self.get_mean_and_std_of_audio_feature(spec, sr, librosa.feature.spectral_bandwidth, 'spectral bandwidth'))\n",
    "    spec_centroid.update(self.get_mean_and_std_of_audio_feature(spec, sr, librosa.feature.spectral_contrast, 'spectral contrast'))\n",
    "    spec_centroid.update(self.get_mean_and_std_of_audio_feature(spec, sr, librosa.feature.spectral_rolloff, 'spectral roll off'))\n",
    "    spec_centroid.update(self.get_mean_and_std_of_audio_feature_wo_sr(y, librosa.feature.spectral_flatness, 'spectral flatness'))\n",
    "    spec_centroid.update(self.get_mean_and_std_of_audio_feature_wo_sr(y, librosa.feature.zero_crossing_rate, 'zero crossing rate'))\n",
    "    spec_centroid.update(self.get_mean_and_std_of_audio_feature_wo_sr(y, librosa.feature.rms, 'rms'))\n",
    "\n",
    "    return spec_centroid\n",
    "  \n",
    "  def get_spec(self, y, sr):\n",
    "    return np.abs(librosa.stft(y))\n",
    "  \n",
    "  def get_mean_and_std_of_audio_feature(self, y, sr, audio_feature, audio_feature_name:str):\n",
    "    audio_features = audio_feature(S = y, sr = sr)\n",
    "    return {f'{audio_feature_name} mean': np.mean(audio_features) , f'{audio_feature_name} std':np.std(audio_features) }\n",
    "  \n",
    "  def get_mean_and_std_of_audio_feature_wo_sr(self, y, audio_feature, audio_feature_name:str):\n",
    "    audio_features = audio_feature(y = y)\n",
    "    return {f'{audio_feature_name} mean': np.mean(audio_features) , f'{audio_feature_name} std':np.std(audio_features) }\n",
    "\n",
    "  def read_soundfile(self, soundfile:sf.SoundFile):\n",
    "    y = soundfile.read()\n",
    "    y = y.mean(1)\n",
    "    return y, soundfile.samplerate\n",
    "\n",
    "  def __call__(self, soundfile:sf.SoundFile):\n",
    "    y, sr = self.read_soundfile(soundfile)\n",
    "    return self.get_audio_features(y, sr)\n",
    "\n",
    "extractor = AudioFeatureExtractor()\n",
    "ob = sf.SoundFile(dataset.wav_list[290])\n",
    "\n",
    "# extractor(ob)"
   ]
  },
  {
   "cell_type": "code",
   "execution_count": null,
   "metadata": {},
   "outputs": [],
   "source": [
    "example_meta = entire_meta[290]\n",
    "example_meta['오디오 음향 특성'] = extractor(ob)"
   ]
  },
  {
   "cell_type": "code",
   "execution_count": null,
   "metadata": {},
   "outputs": [],
   "source": [
    "with open(\"example_meta.json\", 'w') as f:\n",
    "  json.dump(example_meta, f, ensure_ascii=False)\n",
    "# example_meta"
   ]
  },
  {
   "cell_type": "code",
   "execution_count": null,
   "metadata": {},
   "outputs": [],
   "source": [
    "import pandas as pd\n",
    "pd.DataFrame([(x['소분류'], x['녹음 방식'], x['파일 이름'], x['길이']) for x in entire_meta]).to_csv('length.csv')"
   ]
  },
  {
   "cell_type": "code",
   "execution_count": null,
   "metadata": {},
   "outputs": [],
   "source": [
    "len(dataset.wav_list)"
   ]
  },
  {
   "cell_type": "code",
   "execution_count": null,
   "metadata": {},
   "outputs": [],
   "source": [
    "[error['file'] for error in meta_creator.error_list if error['error'] == 'Error occured while handling the corresponding docx']"
   ]
  },
  {
   "cell_type": "code",
   "execution_count": null,
   "metadata": {},
   "outputs": [],
   "source": [
    "meta_creator.error_list"
   ]
  },
  {
   "cell_type": "code",
   "execution_count": null,
   "metadata": {},
   "outputs": [],
   "source": [
    "entire_meta[290]"
   ]
  },
  {
   "cell_type": "code",
   "execution_count": null,
   "metadata": {},
   "outputs": [],
   "source": [
    "for meta in entire_meta:\n",
    "  if '필드 레코딩 메타' in meta:\n",
    "    print(meta['필드 레코딩 메타']['소리의 강도'])"
   ]
  },
  {
   "cell_type": "markdown",
   "metadata": {},
   "source": []
  },
  {
   "cell_type": "code",
   "execution_count": null,
   "metadata": {},
   "outputs": [],
   "source": [
    "test = Document(\"/home/teo/userdata/nia_dataset/field_recording/5팀 이상화 1주차/metadata/1-2-5-1-김민규.docx\")\n",
    "table = test.tables[0]\n",
    "\n",
    "for row in table.rows:\n",
    "  print(row.cells[0].text, '//', row.cells[1].text)"
   ]
  },
  {
   "cell_type": "code",
   "execution_count": null,
   "metadata": {},
   "outputs": [],
   "source": [
    "meta_creator.read_table_from_docx(\"/home/teo/userdata/nia_dataset/field_recording/4팀 김양우 1주차/metadata/1-1-3-1-한은광.docx\")"
   ]
  },
  {
   "cell_type": "code",
   "execution_count": null,
   "metadata": {},
   "outputs": [],
   "source": [
    "Path(\"/home/teo/userdata/nia_dataset/field_recording/5팀 이상화 1주차/metadata/1-2-7-6-백승렬.docx\").exists()"
   ]
  },
  {
   "cell_type": "code",
   "execution_count": null,
   "metadata": {
    "scrolled": true
   },
   "outputs": [],
   "source": [
    "table = meta_creator.read_table_from_docx('1-1-1-1-송영재.docx')\n",
    "table"
   ]
  },
  {
   "cell_type": "code",
   "execution_count": null,
   "metadata": {
    "scrolled": true
   },
   "outputs": [],
   "source": [
    "import pandas as pd\n",
    "pd.DataFrame(table, index=['']).T.to_excel('1-1-1-1-송영재.xlsx')"
   ]
  },
  {
   "cell_type": "code",
   "execution_count": null,
   "metadata": {},
   "outputs": [],
   "source": [
    "pd.read_excel('/home/teo/label-studio_files/nia_dataset/__DATA_v4/01/metadata/r-1-1-4-11-백승렬.xlsx')"
   ]
  },
  {
   "cell_type": "code",
   "execution_count": null,
   "metadata": {},
   "outputs": [],
   "source": [
    "!pip install openpyxl"
   ]
  },
  {
   "cell_type": "code",
   "execution_count": null,
   "metadata": {},
   "outputs": [],
   "source": [
    "meta_creator.vocab['idx2title']"
   ]
  },
  {
   "cell_type": "code",
   "execution_count": null,
   "metadata": {},
   "outputs": [],
   "source": [
    "mediainfo(\"/home/teo/userdata/nia_dataset/field_recording/5팀 이상화 1주차/mp3/1-2-7-6-백승렬.mp3\")"
   ]
  },
  {
   "cell_type": "code",
   "execution_count": null,
   "metadata": {},
   "outputs": [],
   "source": [
    "import docx\n",
    "\n",
    "def getText(filename):\n",
    "    doc = docx.Document(filename)\n",
    "    fullText = []\n",
    "    for para in doc.paragraphs:\n",
    "        fullText.append(para.text)\n",
    "    return '\\n'.join(fullText)\n",
    "\n",
    "test = getText('1-1-1-1-송영재.docx')"
   ]
  },
  {
   "cell_type": "code",
   "execution_count": null,
   "metadata": {},
   "outputs": [],
   "source": [
    "from docx.api import Document\n",
    "\n",
    "# Load the first table from your document. In your example file,\n",
    "# there is only one table, so I just grab the first one.\n",
    "document = Document('1-1-1-1-송영재.docx')\n",
    "table = document.tables[0]"
   ]
  },
  {
   "cell_type": "code",
   "execution_count": null,
   "metadata": {},
   "outputs": [],
   "source": [
    "data = []\n",
    "\n",
    "keys = None\n",
    "for i, row in enumerate(table.rows):\n",
    "    text = (cell.text for cell in row.cells)\n",
    "\n",
    "    # Establish the mapping based on the first row\n",
    "    # headers; these will become the keys of our dictionary\n",
    "    if i == 0:\n",
    "        keys = tuple(text)\n",
    "        continue\n",
    "\n",
    "    # Construct a dictionary for this row, mapping\n",
    "    # keys to values for this row\n",
    "    row_data = dict(zip(keys, text))\n",
    "    data.append(row_data)\n",
    "data[0]['']"
   ]
  },
  {
   "cell_type": "code",
   "execution_count": null,
   "metadata": {},
   "outputs": [],
   "source": []
  },
  {
   "cell_type": "code",
   "execution_count": null,
   "metadata": {},
   "outputs": [],
   "source": []
  }
 ],
 "metadata": {
  "kernelspec": {
   "display_name": "Python 3 (ipykernel)",
   "language": "python",
   "name": "python3"
  },
  "language_info": {
   "codemirror_mode": {
    "name": "ipython",
    "version": 3
   },
   "file_extension": ".py",
   "mimetype": "text/x-python",
   "name": "python",
   "nbconvert_exporter": "python",
   "pygments_lexer": "ipython3",
   "version": "3.8.10"
  },
  "vscode": {
   "interpreter": {
    "hash": "31f2aee4e71d21fbe5cf8b01ff0e069b9275f58929596ceb00d14d90e3e16cd6"
   }
  }
 },
 "nbformat": 4,
 "nbformat_minor": 2
}
