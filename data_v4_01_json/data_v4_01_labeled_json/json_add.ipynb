{
 "cells": [
  {
   "cell_type": "code",
   "execution_count": 18,
   "metadata": {},
   "outputs": [],
   "source": [
    "import json\n",
    "\n",
    "with open('project-17-at-2022-08-29-03-13-2e56a7dd.json') as file_1:\n",
    "\tdata1 = json.load(file_1)\n",
    "\n",
    "with open('project-18-at-2022-08-29-03-12-566bade9.json') as file_2:\n",
    "\tdata2 = json.load(file_2)\n",
    "\n",
    "with open('project-19-at-2022-08-29-03-12-2745490d.json') as file_3:\n",
    "\tdata3 = json.load(file_3)\n",
    "\n",
    "with open('project-20-at-2022-08-29-03-12-687620e3.json') as file_4:\n",
    "\tdata4 = json.load(file_4)\n",
    "\n",
    "with open('project-21-at-2022-08-29-03-12-35d87f4f.json') as file_5:\n",
    "\tdata5 = json.load(file_5)\n",
    "\n",
    "with open('project-22-at-2022-08-29-04-29-51cb8bc0.json') as file_6:\n",
    "\tdata6 = json.load(file_6)\n",
    "\n",
    "with open('project-23-at-2022-08-29-03-07-bb84f58f.json') as file_7:\n",
    "\tdata7 = json.load(file_7)\n",
    "\n",
    "with open('project-24-at-2022-08-29-03-07-272669eb.json') as file_8:\n",
    "\tdata8 = json.load(file_8)\n",
    " \n",
    "with open('project-25-at-2022-08-29-03-05-b9e0b398.json') as file_9:\n",
    "\tdata9 = json.load(file_9)"
   ]
  },
  {
   "cell_type": "code",
   "execution_count": 24,
   "metadata": {},
   "outputs": [
    {
     "name": "stdout",
     "output_type": "stream",
     "text": [
      "36\n"
     ]
    }
   ],
   "source": [
    "print(len(data9))"
   ]
  },
  {
   "cell_type": "code",
   "execution_count": 20,
   "metadata": {},
   "outputs": [],
   "source": [
    "with open(\"data_v4_01_labeled.json\", \"w\") as new_file:\n",
    "\tjson.dump(data1+data2+data3+data4+data5+data6+data7+data8+data9, new_file)"
   ]
  },
  {
   "cell_type": "code",
   "execution_count": 21,
   "metadata": {},
   "outputs": [
    {
     "data": {
      "text/plain": [
       "496"
      ]
     },
     "execution_count": 21,
     "metadata": {},
     "output_type": "execute_result"
    }
   ],
   "source": [
    "with open('data_v4_01_labeled.json') as file:\n",
    "\tdata_all = json.load(file)\n",
    "len(data_all)"
   ]
  },
  {
   "cell_type": "code",
   "execution_count": null,
   "metadata": {},
   "outputs": [],
   "source": []
  }
 ],
 "metadata": {
  "kernelspec": {
   "display_name": "Python 3.8.10 64-bit",
   "language": "python",
   "name": "python3"
  },
  "language_info": {
   "codemirror_mode": {
    "name": "ipython",
    "version": 3
   },
   "file_extension": ".py",
   "mimetype": "text/x-python",
   "name": "python",
   "nbconvert_exporter": "python",
   "pygments_lexer": "ipython3",
   "version": "3.8.10"
  },
  "orig_nbformat": 4,
  "vscode": {
   "interpreter": {
    "hash": "916dbcbb3f70747c44a77c7bcd40155683ae19c65e1c03b4aa3499c5328201f1"
   }
  }
 },
 "nbformat": 4,
 "nbformat_minor": 2
}
