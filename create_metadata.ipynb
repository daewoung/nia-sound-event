{
 "cells": [
  {
   "cell_type": "code",
   "execution_count": 1,
   "metadata": {},
   "outputs": [],
   "source": [
    "%load_ext autoreload\n",
    "%autoreload 2"
   ]
  },
  {
   "cell_type": "code",
   "execution_count": 2,
   "metadata": {},
   "outputs": [],
   "source": [
    "import json\n",
    "import torchaudio\n",
    "from pathlib import Path\n",
    "from copy import copy\n",
    "from docx.api import Document\n",
    "import soundfile as sf\n",
    "import librosa\n",
    "from pydub.utils import mediainfo\n",
    "from tqdm.auto import tqdm\n",
    "import pandas as pd\n",
    "\n",
    "from data_utils import NeutuneSet"
   ]
  },
  {
   "cell_type": "code",
   "execution_count": 3,
   "metadata": {},
   "outputs": [],
   "source": [
    "# dataset = NeutuneSet('/home/teo/userdata/nia_dataset/field_recording')\n",
    "dataset = NeutuneSet('/home/teo/label-studio_files/nia_dataset/')"
   ]
  },
  {
   "cell_type": "code",
   "execution_count": 18,
   "metadata": {},
   "outputs": [
    {
     "data": {
      "application/vnd.jupyter.widget-view+json": {
       "model_id": "70d26939b7824653b3022a4244bff987",
       "version_major": 2,
       "version_minor": 0
      },
      "text/plain": [
       "  0%|          | 0/498 [00:00<?, ?it/s]"
      ]
     },
     "metadata": {},
     "output_type": "display_data"
    },
    {
     "name": "stdout",
     "output_type": "stream",
     "text": [
      "Correct middle: 1 / Current middle: 2 / Current Fine: 2\n"
     ]
    }
   ],
   "source": [
    "from pandas import read_table\n",
    "\n",
    "from meta_utils import MetaCreator\n",
    "\n",
    "meta_creator = MetaCreator('vocab.json')\n",
    "# meta_creator.create_meta_for_wav(dataset.wav_list[0])\n",
    "entire_meta = [meta_creator.create_meta_for_wav(wav) for wav in tqdm(sorted(dataset.wav_list))]"
   ]
  },
  {
   "cell_type": "code",
   "execution_count": 14,
   "metadata": {},
   "outputs": [
    {
     "data": {
      "text/plain": [
       "True"
      ]
     },
     "execution_count": 14,
     "metadata": {},
     "output_type": "execute_result"
    }
   ],
   "source": [
    "xlsx_path = '/home/teo/label-studio_files/nia_dataset/__DATA_v4/01/metadata/fs-2-4-75-1-가민지.xlsx'\n",
    "detailed_meta = pd.read_excel(xlsx_path, index_col=0)\n",
    "\n",
    "detailed_meta = detailed_meta.T\n",
    "'사용 기자재' in detailed_meta\n",
    "# detailed_meta = detailed_meta.T\n",
    "# detailed_meta"
   ]
  },
  {
   "cell_type": "code",
   "execution_count": 11,
   "metadata": {},
   "outputs": [
    {
     "data": {
      "text/html": [
       "<div>\n",
       "<style scoped>\n",
       "    .dataframe tbody tr th:only-of-type {\n",
       "        vertical-align: middle;\n",
       "    }\n",
       "\n",
       "    .dataframe tbody tr th {\n",
       "        vertical-align: top;\n",
       "    }\n",
       "\n",
       "    .dataframe thead th {\n",
       "        text-align: right;\n",
       "    }\n",
       "</style>\n",
       "<table border=\"1\" class=\"dataframe\">\n",
       "  <thead>\n",
       "    <tr style=\"text-align: right;\">\n",
       "      <th></th>\n",
       "      <th>분류 번호</th>\n",
       "      <th>녹음/제작자 성명</th>\n",
       "      <th>녹음/제작 연/월/일</th>\n",
       "      <th>오디오 포맷</th>\n",
       "      <th>오디오 길이</th>\n",
       "      <th>제작 장소</th>\n",
       "      <th>보안 이슈</th>\n",
       "      <th>자료 제공자 정보</th>\n",
       "    </tr>\n",
       "  </thead>\n",
       "  <tbody>\n",
       "    <tr>\n",
       "      <th>Unnamed: 1</th>\n",
       "      <td>1-1-2</td>\n",
       "      <td>가민지</td>\n",
       "      <td>2022.07.17</td>\n",
       "      <td>스테레오 - wav (96k, 24bit) / mp3</td>\n",
       "      <td>91초</td>\n",
       "      <td>서산시 동문동</td>\n",
       "      <td>없음</td>\n",
       "      <td>성명: 000\\n연령: 000</td>\n",
       "    </tr>\n",
       "  </tbody>\n",
       "</table>\n",
       "</div>"
      ],
      "text/plain": [
       "            분류 번호 녹음/제작자 성명 녹음/제작 연/월/일                         오디오 포맷 오디오 길이  \\\n",
       "Unnamed: 1  1-1-2       가민지  2022.07.17  스테레오 - wav (96k, 24bit) / mp3    91초   \n",
       "\n",
       "              제작 장소 보안 이슈         자료 제공자 정보  \n",
       "Unnamed: 1  서산시 동문동    없음  성명: 000\\n연령: 000  "
      ]
     },
     "execution_count": 11,
     "metadata": {},
     "output_type": "execute_result"
    }
   ],
   "source": [
    "detailed_meta"
   ]
  },
  {
   "cell_type": "code",
   "execution_count": 13,
   "metadata": {},
   "outputs": [
    {
     "data": {
      "text/html": [
       "<div>\n",
       "<style scoped>\n",
       "    .dataframe tbody tr th:only-of-type {\n",
       "        vertical-align: middle;\n",
       "    }\n",
       "\n",
       "    .dataframe tbody tr th {\n",
       "        vertical-align: top;\n",
       "    }\n",
       "\n",
       "    .dataframe thead th {\n",
       "        text-align: right;\n",
       "    }\n",
       "</style>\n",
       "<table border=\"1\" class=\"dataframe\">\n",
       "  <thead>\n",
       "    <tr style=\"text-align: right;\">\n",
       "      <th></th>\n",
       "      <th>Unnamed: 1</th>\n",
       "    </tr>\n",
       "  </thead>\n",
       "  <tbody>\n",
       "    <tr>\n",
       "      <th>분류 번호</th>\n",
       "      <td>1-1-2</td>\n",
       "    </tr>\n",
       "    <tr>\n",
       "      <th>녹음/제작자 성명</th>\n",
       "      <td>가민지</td>\n",
       "    </tr>\n",
       "    <tr>\n",
       "      <th>녹음/제작 연/월/일</th>\n",
       "      <td>2022.07.17</td>\n",
       "    </tr>\n",
       "    <tr>\n",
       "      <th>사용 기자재</th>\n",
       "      <td>Ableton Live DAW</td>\n",
       "    </tr>\n",
       "    <tr>\n",
       "      <th>오디오 포맷</th>\n",
       "      <td>스테레오 - wav (96k, 24bit) / mp3</td>\n",
       "    </tr>\n",
       "    <tr>\n",
       "      <th>오디오 길이</th>\n",
       "      <td>91초</td>\n",
       "    </tr>\n",
       "    <tr>\n",
       "      <th>제작 장소</th>\n",
       "      <td>서산시 동문동</td>\n",
       "    </tr>\n",
       "    <tr>\n",
       "      <th>보안 이슈</th>\n",
       "      <td>없음</td>\n",
       "    </tr>\n",
       "    <tr>\n",
       "      <th>자료 제공자 정보</th>\n",
       "      <td>성명: 000\\n연령: 000</td>\n",
       "    </tr>\n",
       "  </tbody>\n",
       "</table>\n",
       "</div>"
      ],
      "text/plain": [
       "                                Unnamed: 1\n",
       "분류 번호                                1-1-2\n",
       "녹음/제작자 성명                              가민지\n",
       "녹음/제작 연/월/일                     2022.07.17\n",
       "사용 기자재                    Ableton Live DAW\n",
       "오디오 포맷       스테레오 - wav (96k, 24bit) / mp3\n",
       "오디오 길이                                 91초\n",
       "제작 장소                              서산시 동문동\n",
       "보안 이슈                                   없음\n",
       "자료 제공자 정보                 성명: 000\\n연령: 000"
      ]
     },
     "execution_count": 13,
     "metadata": {},
     "output_type": "execute_result"
    }
   ],
   "source": [
    "xlsx_path = '/home/teo/label-studio_files/nia_dataset/__DATA_v4/01/metadata/fs-2-4-75-1-가민지.xlsx'\n",
    "detailed_meta = pd.read_excel(xlsx_path, index_col=0)\n",
    "detailed_meta"
   ]
  },
  {
   "cell_type": "code",
   "execution_count": 15,
   "metadata": {},
   "outputs": [],
   "source": [
    "for wav_path in dataset.wav_list:\n",
    "  docx_path = wav_path.parent.parent / 'metadata' / wav_path.with_suffix('.docx').name\n",
    "  xlsx_path = docx_path.with_suffix('.xlsx')\n",
    "  if docx_path.exists() and xlsx_path.exists():\n",
    "    xlsx_path.unlink()"
   ]
  },
  {
   "cell_type": "code",
   "execution_count": 19,
   "metadata": {},
   "outputs": [
    {
     "data": {
      "text/plain": [
       "[{'file': 'fs-2-4-75-1-김양우.wav', 'error': 'Meta docx does not exist'},\n",
       " {'file': 'fs-2-4-75-1-김준형.wav',\n",
       "  'error': 'Error occured while handling the corresponding docx'},\n",
       " {'file': 'fs-2-4-75-1-이동화.wav',\n",
       "  'error': 'Error occured while handling the corresponding docx'},\n",
       " {'file': 'fs-2-4-75-1-장완석.wav',\n",
       "  'error': 'Error occured while handling the corresponding docx'},\n",
       " {'file': 'fs-2-4-75-2-김양우.wav', 'error': 'Meta docx does not exist'},\n",
       " {'file': 'fs-2-4-75-2-김준형.wav',\n",
       "  'error': 'Error occured while handling the corresponding docx'},\n",
       " {'file': 'fs-2-4-75-2-이동화.wav',\n",
       "  'error': 'Error occured while handling the corresponding docx'},\n",
       " {'file': 'fs-2-4-75-2-장완석.wav',\n",
       "  'error': 'Error occured while handling the corresponding docx'},\n",
       " {'file': 'fs-2-4-75-3-김양우.wav', 'error': 'Meta docx does not exist'},\n",
       " {'file': 'fs-2-4-75-3-김준형.wav',\n",
       "  'error': 'Error occured while handling the corresponding docx'},\n",
       " {'file': 'fs-2-4-75-3-이동화.wav',\n",
       "  'error': 'Error occured while handling the corresponding docx'},\n",
       " {'file': 'fs-2-4-75-3-장완석.wav',\n",
       "  'error': 'Error occured while handling the corresponding docx'},\n",
       " {'file': 'fs-2-4-78-1-김양우.wav', 'error': 'Meta docx does not exist'},\n",
       " {'file': 'fs-2-4-78-1-김준형.wav',\n",
       "  'error': 'Error occured while handling the corresponding docx'},\n",
       " {'file': 'fs-2-4-78-1-송화영.wav',\n",
       "  'error': 'Error occured while handling the corresponding docx'},\n",
       " {'file': 'fs-2-4-78-1-어상진.wav',\n",
       "  'error': 'Error occured while handling the corresponding xlsx'},\n",
       " {'file': 'fs-2-4-78-1-이동화.wav',\n",
       "  'error': 'Error occured while handling the corresponding docx'},\n",
       " {'file': 'fs-2-4-78-1-장완석.wav',\n",
       "  'error': 'Error occured while handling the corresponding docx'},\n",
       " {'file': 'fs-2-4-78-2-김양우.wav', 'error': 'Meta docx does not exist'},\n",
       " {'file': 'fs-2-4-78-2-김준형.wav',\n",
       "  'error': 'Error occured while handling the corresponding docx'},\n",
       " {'file': 'fs-2-4-78-2-송화영.wav',\n",
       "  'error': 'Error occured while handling the corresponding docx'},\n",
       " {'file': 'fs-2-4-78-2-어상진.wav',\n",
       "  'error': 'Error occured while handling the corresponding xlsx'},\n",
       " {'file': 'fs-2-4-78-2-이동화.wav',\n",
       "  'error': 'Error occured while handling the corresponding docx'},\n",
       " {'file': 'fs-2-4-78-2-장완석.wav',\n",
       "  'error': 'Error occured while handling the corresponding docx'},\n",
       " {'file': 'fs-2-4-78-3-김양우.wav', 'error': 'Meta docx does not exist'},\n",
       " {'file': 'fs-2-4-78-3-김준형.wav',\n",
       "  'error': 'Error occured while handling the corresponding docx'},\n",
       " {'file': 'fs-2-4-78-3-어상진.wav',\n",
       "  'error': 'Error occured while handling the corresponding xlsx'},\n",
       " {'file': 'fs-2-4-78-3-이동화.wav',\n",
       "  'error': 'Error occured while handling the corresponding docx'},\n",
       " {'file': 'fs-2-4-78-3-장완석.wav',\n",
       "  'error': 'Error occured while handling the corresponding docx'},\n",
       " {'file': 'fs-2-4-79-1-어상진.wav',\n",
       "  'error': 'Error occured while handling the corresponding xlsx'},\n",
       " {'file': 'fs-2-4-86-1-김양우.wav', 'error': 'Meta docx does not exist'},\n",
       " {'file': 'fs-2-4-86-1-김준형.wav',\n",
       "  'error': 'Error occured while handling the corresponding docx'},\n",
       " {'file': 'fs-2-4-86-1-이동화.wav',\n",
       "  'error': 'Error occured while handling the corresponding docx'},\n",
       " {'file': 'fs-2-4-86-1-장완석.wav',\n",
       "  'error': 'Error occured while handling the corresponding docx'},\n",
       " {'file': 'fs-2-4-86-2-김양우.wav', 'error': 'Meta docx does not exist'},\n",
       " {'file': 'fs-2-4-86-2-김준형.wav',\n",
       "  'error': 'Error occured while handling the corresponding docx'},\n",
       " {'file': 'fs-2-4-86-2-이동화.wav',\n",
       "  'error': 'Error occured while handling the corresponding docx'},\n",
       " {'file': 'fs-2-4-86-2-장완석.wav',\n",
       "  'error': 'Error occured while handling the corresponding docx'},\n",
       " {'file': 'fs-2-4-86-3-김양우.wav', 'error': 'Meta docx does not exist'},\n",
       " {'file': 'fs-2-4-86-3-김준형.wav',\n",
       "  'error': 'Error occured while handling the corresponding docx'},\n",
       " {'file': 'fs-2-4-86-3-이동화.wav',\n",
       "  'error': 'Error occured while handling the corresponding docx'},\n",
       " {'file': 'fs-2-4-86-3-장완석.wav',\n",
       "  'error': 'Error occured while handling the corresponding docx'},\n",
       " {'file': 'fs-2-4-87-1-김양우.wav', 'error': 'Meta docx does not exist'},\n",
       " {'file': 'fs-2-4-87-1-김준형.wav',\n",
       "  'error': 'Error occured while handling the corresponding docx'},\n",
       " {'file': 'fs-2-4-87-1-이동화.wav',\n",
       "  'error': 'Error occured while handling the corresponding docx'},\n",
       " {'file': 'fs-2-4-87-1-장완석.wav',\n",
       "  'error': 'Error occured while handling the corresponding docx'},\n",
       " {'file': 'fs-2-4-87-2-김양우.wav', 'error': 'Meta docx does not exist'},\n",
       " {'file': 'fs-2-4-87-2-김준형.wav',\n",
       "  'error': 'Error occured while handling the corresponding docx'},\n",
       " {'file': 'fs-2-4-87-2-이동화.wav',\n",
       "  'error': 'Error occured while handling the corresponding docx'},\n",
       " {'file': 'fs-2-4-87-2-장완석.wav',\n",
       "  'error': 'Error occured while handling the corresponding docx'},\n",
       " {'file': 'fs-2-4-87-3-김양우.wav', 'error': 'Meta docx does not exist'},\n",
       " {'file': 'fs-2-4-87-3-김준형.wav',\n",
       "  'error': 'Error occured while handling the corresponding docx'},\n",
       " {'file': 'fs-2-4-87-3-이동화.wav',\n",
       "  'error': 'Error occured while handling the corresponding docx'},\n",
       " {'file': 'fs-2-4-87-3-장완석.wav',\n",
       "  'error': 'Error occured while handling the corresponding docx'},\n",
       " {'file': 'r-1-1-1-1-김영운.wav',\n",
       "  'error': 'Error occured while handling the corresponding docx'},\n",
       " {'file': 'r-1-1-1-1-민건욱.wav',\n",
       "  'error': 'Error occured while handling the corresponding docx'},\n",
       " {'file': 'r-1-1-1-1-윤상빈.wav',\n",
       "  'error': 'Error occured while handling the corresponding docx'},\n",
       " {'file': 'r-1-1-1-1-정욱.wav',\n",
       "  'error': 'Error occured while handling the corresponding xlsx'},\n",
       " {'file': 'r-1-1-1-2-김시온.wav',\n",
       "  'error': 'Error occured while handling the corresponding docx'},\n",
       " {'file': 'r-1-1-1-2-김영운.wav',\n",
       "  'error': 'Error occured while handling the corresponding docx'},\n",
       " {'file': 'r-1-1-1-2-민건욱.wav',\n",
       "  'error': 'Error occured while handling the corresponding docx'},\n",
       " {'file': 'r-1-1-1-2-윤상빈.wav',\n",
       "  'error': 'Error occured while handling the corresponding docx'},\n",
       " {'file': 'r-1-1-1-2-정욱.wav',\n",
       "  'error': 'Error occured while handling the corresponding xlsx'},\n",
       " {'file': 'r-1-1-1-3-김영운.wav',\n",
       "  'error': 'Error occured while handling the corresponding docx'},\n",
       " {'file': 'r-1-1-1-3-민건욱.wav',\n",
       "  'error': 'Error occured while handling the corresponding docx'},\n",
       " {'file': 'r-1-1-1-3-윤상빈.wav',\n",
       "  'error': 'Error occured while handling the corresponding docx'},\n",
       " {'file': 'r-1-1-1-3-정욱.wav',\n",
       "  'error': 'Error occured while handling the corresponding xlsx'},\n",
       " {'file': 'r-1-1-1-4-정욱.wav',\n",
       "  'error': 'Error occured while handling the corresponding xlsx'},\n",
       " {'file': 'r-1-1-1-5-정욱.wav',\n",
       "  'error': 'Error occured while handling the corresponding xlsx'},\n",
       " {'file': 'r-1-1-2-3 허진만.wav', 'error': 'Meta docx does not exist'},\n",
       " {'file': 'r-1-1-3-1-윤상빈.wav',\n",
       "  'error': 'Error occured while handling the corresponding docx'},\n",
       " {'file': 'r-1-1-4-1-윤상빈.wav',\n",
       "  'error': 'Error occured while handling the corresponding docx'},\n",
       " {'file': '1-1-2-2-전소형.wav', 'error': 'Category is wrong'},\n",
       " {'file': '1-1-2-2-전소형.wav', 'error': 'Meta docx does not exist'}]"
      ]
     },
     "execution_count": 19,
     "metadata": {},
     "output_type": "execute_result"
    }
   ],
   "source": [
    "meta_creator.error_list"
   ]
  },
  {
   "cell_type": "code",
   "execution_count": 22,
   "metadata": {},
   "outputs": [
    {
     "data": {
      "text/plain": [
       "{'': '\\n'}"
      ]
     },
     "execution_count": 22,
     "metadata": {},
     "output_type": "execute_result"
    }
   ],
   "source": [
    "docx_path = '/home/teo/label-studio_files/nia_dataset/__DATA_v4/01/metadata/fs-2-4-75-2-장완석.docx'\n",
    "meta_creator.read_table_from_docx(docx_path)"
   ]
  },
  {
   "cell_type": "code",
   "execution_count": null,
   "metadata": {},
   "outputs": [],
   "source": [
    "\n",
    "'''\n",
    "class MetaCreator:\n",
    "  def __init__(self, vocab_path):\n",
    "    with open(vocab_path, 'r') as f:\n",
    "      self.vocab = json.load(f)\n",
    "    self.error_list = []\n",
    "\n",
    "  def get_recording_type(self, wav_path):\n",
    "    if '폴리' in wav_path:\n",
    "      return '폴리'\n",
    "    elif '합성' in wav_path:\n",
    "      return '합성'\n",
    "    elif '필드' in wav_path:\n",
    "      return '필드 레코딩'\n",
    "\n",
    "  def check_mp3_format(self, wav_path):\n",
    "    mp3_path = wav_path.parent.parent / 'mp3' / wav_path.with_suffix('.mp3').name\n",
    "    mp3_info = mediainfo(mp3_path)\n",
    "    if int(mp3_info[\"sample_rate\"]) != 48000:\n",
    "        print(f\"Error in MP3 SR: {mp3_path} is {mp3_info['sample_rate']}\")\n",
    "    if abs(int(mp3_info[\"bit_rate\"]) - 320000) > 300 :\n",
    "      print(f\"Error in MP3 bit_rate: {mp3_path} is {mp3_info['bit_rate']}\")\n",
    "    return float(mp3_info[\"duration\"])\n",
    "\n",
    "  def check_name_is_wrong(self, wav_path):\n",
    "\n",
    "    name = wav_path.stem\n",
    "    high, middle, fine = [int(x) for x in name.split('-')[1:4]]\n",
    "    voc = self.vocab[fine-1]\n",
    "    assert voc[\"소분류_번호\"] == fine\n",
    "    if high != voc['대분류_번호']:\n",
    "      print(f\"Correct High: {voc['대분류_번호']} / Current High: {high} / Current Fine: {fine}\")\n",
    "      return True\n",
    "    if middle != voc['중분류_번호']:\n",
    "      print(f\"Correct middle: {voc['중분류_번호']} / Current middle: {middle} / Current Fine: {fine}\")\n",
    "\n",
    "      return True\n",
    "    return False\n",
    "\n",
    "  def add_error(self, wav_path, error_str):\n",
    "    self.error_list.append({'file': wav_path.name, 'error': error_str})\n",
    "\n",
    "  def get_category_idx(self, wav_path):\n",
    "    name = wav_path.stem\n",
    "    high, middle, fine = [int(x) for x in name.split('-')[1:4]]\n",
    "    return fine-1\n",
    "\n",
    "  def create_meta_for_wav(self, wav_path):\n",
    "    if isinstance(wav_path, str):\n",
    "      wav_path = Path(wav_path)\n",
    "\n",
    "    # 파일 이름 형태가 1-1-1-1.wav 이런 식이라고 가정할 때\n",
    "    category_idx = self.get_category_idx(wav_path)\n",
    "    \n",
    "    # try:\n",
    "    #   mp3_dur = self.check_mp3_format(wav_path)\n",
    "    # except:\n",
    "    #   print(f\"Error occured while reading mp3 of {wav_path}\")\n",
    "\n",
    "\n",
    "    if self.check_name_is_wrong(wav_path):\n",
    "      # print(f\"Name is wrong for {wav_path}\")\n",
    "      self.add_error(wav_path, \"Category is wrong\")\n",
    "    meta = copy(self.vocab[category_idx])\n",
    "    meta['녹음 방식'] = self.get_recording_type(str(wav_path))\n",
    "    meta['파일 이름'] = wav_path.name\n",
    "\n",
    "    ob = sf.SoundFile(wav_path)\n",
    "    # if abs(mp3_dur - ob.frames / ob.samplerate) > 0.2:\n",
    "    #   print(f\"Duration of MP3 and Wav is different: {ob.frames / ob.samplerate}, {mp3_dur}\")\n",
    "\n",
    "    meta['샘플링 레이트'] = ob.samplerate\n",
    "    meta['채널 수'] = ob.channels\n",
    "    meta['Bit_depth'] = int(ob.subtype.split('_')[1])\n",
    "    if meta['Bit_depth'] != 24:\n",
    "      # print(f\"Bit-depth of {wav_path} is {meta['Bit_depth']}\")\n",
    "      self.add_error(wav_path, f\"Bit-depth is {meta['Bit_depth']}\")\n",
    "    if meta['채널 수'] != 2:\n",
    "      print(f\"Num Channels of {wav_path} is {meta['채널 수']}\")\n",
    "      self.add_error(wav_path, f\"Num channels is {meta['채널 수']}\")\n",
    "    if meta['샘플링 레이트'] != 96000:\n",
    "      print(f\"Sampling rate of {wav_path} is {meta['샘플링 레이트']}\")\n",
    "      self.add_error(wav_path, f\"Sampling rate is {meta['샘플링 레이트']}\")\n",
    "\n",
    "    meta['길이'] = ob.frames / ob.samplerate # second \n",
    "    if True: #if it is field recording\n",
    "      docx_path = wav_path.parent.parent / 'metadata' / wav_path.with_suffix('.docx').name\n",
    "      excel_path = docx_path.with_suffix('.xlsx')\n",
    "      if excel_path.exists():\n",
    "        try:\n",
    "          detailed_meta = pd.read_excel(excel_path)\n",
    "          if meta['녹음 방식'] == \"필드 레코딩\":\n",
    "            meta[\"필드 레코딩 메타\"] = detailed_meta\n",
    "          print(excel_path)\n",
    "          meta[\"제목\"] = detailed_meta.pop(\"제목\")\n",
    "        except:\n",
    "          self.add_error(wav_path, f\"Error occured while handling the corresponding xlsx\")\n",
    "      elif docx_path.exists():\n",
    "        try:\n",
    "          detailed_meta = self.read_table_from_docx(docx_path)\n",
    "          pd.DataFrame(detailed_meta, index=['']).T.to_excel(docx_path.with_suffix('.xlsx'))\n",
    "          if meta['녹음 방식'] == \"필드 레코딩\":\n",
    "            meta[\"필드 레코딩 메타\"] = detailed_meta\n",
    "          meta[\"제목\"] = detailed_meta.pop(\"제목\")\n",
    "        except Exception as e:\n",
    "          self.add_error(wav_path, f\"Error occured while handling the corresponding docx\")\n",
    "      else:\n",
    "        self.add_error(wav_path, \"Meta docx does not exist\")\n",
    "    # self.get_audio_features(ob)\n",
    "    return meta\n",
    "\n",
    "  def read_table_from_docx(self, docx_path):\n",
    "    document = Document(docx_path)\n",
    "    table = document.tables[0]\n",
    "    table_dict = {row.cells[0].text:row.cells[1].text for row in table.rows[1:]}\n",
    "    return table_dict\n",
    "\n",
    "\n",
    "  def get_audio_features(self, soundfile:sf.SoundFile):\n",
    "    y = soundfile.read()\n",
    "    y = y.mean(1)\n",
    "    spec_centroid = librosa.feature.spectral_centroid(y = y, sr=soundfile.samplerate)\n",
    "    print(spec_centroid)\n",
    "\n",
    "    return\n",
    "'''"
   ]
  },
  {
   "cell_type": "code",
   "execution_count": null,
   "metadata": {
    "scrolled": true
   },
   "outputs": [],
   "source": [
    "import numpy as np\n",
    "\n",
    "class AudioFeatureExtractor:\n",
    "  def __init__(self):\n",
    "    pass \n",
    "\n",
    "  def get_audio_features(self, y:np.ndarray, sr:int):\n",
    "    spec = self.get_spec(y, sr)\n",
    "    \n",
    "    spec_centroid = self.get_mean_and_std_of_audio_feature(spec, sr, librosa.feature.spectral_centroid, 'spectral centroid')\n",
    "    \n",
    "    spec_centroid.update(self.get_mean_and_std_of_audio_feature(spec, sr, librosa.feature.spectral_bandwidth, 'spectral bandwidth'))\n",
    "    spec_centroid.update(self.get_mean_and_std_of_audio_feature(spec, sr, librosa.feature.spectral_contrast, 'spectral contrast'))\n",
    "    spec_centroid.update(self.get_mean_and_std_of_audio_feature(spec, sr, librosa.feature.spectral_rolloff, 'spectral roll off'))\n",
    "    spec_centroid.update(self.get_mean_and_std_of_audio_feature_wo_sr(y, librosa.feature.spectral_flatness, 'spectral flatness'))\n",
    "    spec_centroid.update(self.get_mean_and_std_of_audio_feature_wo_sr(y, librosa.feature.zero_crossing_rate, 'zero crossing rate'))\n",
    "    spec_centroid.update(self.get_mean_and_std_of_audio_feature_wo_sr(y, librosa.feature.rms, 'rms'))\n",
    "\n",
    "    return spec_centroid\n",
    "  \n",
    "  def get_spec(self, y, sr):\n",
    "    return np.abs(librosa.stft(y))\n",
    "  \n",
    "  def get_mean_and_std_of_audio_feature(self, y, sr, audio_feature, audio_feature_name:str):\n",
    "    audio_features = audio_feature(S = y, sr = sr)\n",
    "    return {f'{audio_feature_name} mean': np.mean(audio_features) , f'{audio_feature_name} std':np.std(audio_features) }\n",
    "  \n",
    "  def get_mean_and_std_of_audio_feature_wo_sr(self, y, audio_feature, audio_feature_name:str):\n",
    "    audio_features = audio_feature(y = y)\n",
    "    return {f'{audio_feature_name} mean': np.mean(audio_features) , f'{audio_feature_name} std':np.std(audio_features) }\n",
    "\n",
    "  def read_soundfile(self, soundfile:sf.SoundFile):\n",
    "    y = soundfile.read()\n",
    "    y = y.mean(1)\n",
    "    return y, soundfile.samplerate\n",
    "\n",
    "  def __call__(self, soundfile:sf.SoundFile):\n",
    "    y, sr = self.read_soundfile(soundfile)\n",
    "    return self.get_audio_features(y, sr)\n",
    "\n",
    "extractor = AudioFeatureExtractor()\n",
    "ob = sf.SoundFile(dataset.wav_list[290])\n",
    "\n",
    "# extractor(ob)"
   ]
  },
  {
   "cell_type": "code",
   "execution_count": null,
   "metadata": {},
   "outputs": [],
   "source": [
    "example_meta = entire_meta[290]\n",
    "example_meta['오디오 음향 특성'] = extractor(ob)"
   ]
  },
  {
   "cell_type": "code",
   "execution_count": null,
   "metadata": {},
   "outputs": [],
   "source": [
    "with open(\"example_meta.json\", 'w') as f:\n",
    "  json.dump(example_meta, f, ensure_ascii=False)\n",
    "# example_meta"
   ]
  },
  {
   "cell_type": "code",
   "execution_count": null,
   "metadata": {},
   "outputs": [],
   "source": [
    "import pandas as pd\n",
    "pd.DataFrame([(x['소분류'], x['녹음 방식'], x['파일 이름'], x['길이']) for x in entire_meta]).to_csv('length.csv')"
   ]
  },
  {
   "cell_type": "code",
   "execution_count": null,
   "metadata": {},
   "outputs": [],
   "source": [
    "len(dataset.wav_list)"
   ]
  },
  {
   "cell_type": "code",
   "execution_count": null,
   "metadata": {},
   "outputs": [],
   "source": [
    "[error['file'] for error in meta_creator.error_list if error['error'] == 'Error occured while handling the corresponding docx']"
   ]
  },
  {
   "cell_type": "code",
   "execution_count": null,
   "metadata": {},
   "outputs": [],
   "source": [
    "meta_creator.error_list"
   ]
  },
  {
   "cell_type": "code",
   "execution_count": null,
   "metadata": {},
   "outputs": [],
   "source": [
    "entire_meta[290]"
   ]
  },
  {
   "cell_type": "code",
   "execution_count": null,
   "metadata": {},
   "outputs": [],
   "source": [
    "for meta in entire_meta:\n",
    "  if '필드 레코딩 메타' in meta:\n",
    "    print(meta['필드 레코딩 메타']['소리의 강도'])"
   ]
  },
  {
   "cell_type": "markdown",
   "metadata": {},
   "source": []
  },
  {
   "cell_type": "code",
   "execution_count": null,
   "metadata": {},
   "outputs": [],
   "source": [
    "test = Document(\"/home/teo/userdata/nia_dataset/field_recording/5팀 이상화 1주차/metadata/1-2-5-1-김민규.docx\")\n",
    "table = test.tables[0]\n",
    "\n",
    "for row in table.rows:\n",
    "  print(row.cells[0].text, '//', row.cells[1].text)"
   ]
  },
  {
   "cell_type": "code",
   "execution_count": null,
   "metadata": {},
   "outputs": [],
   "source": [
    "meta_creator.read_table_from_docx(\"/home/teo/userdata/nia_dataset/field_recording/4팀 김양우 1주차/metadata/1-1-3-1-한은광.docx\")"
   ]
  },
  {
   "cell_type": "code",
   "execution_count": null,
   "metadata": {},
   "outputs": [],
   "source": [
    "Path(\"/home/teo/userdata/nia_dataset/field_recording/5팀 이상화 1주차/metadata/1-2-7-6-백승렬.docx\").exists()"
   ]
  },
  {
   "cell_type": "code",
   "execution_count": null,
   "metadata": {
    "scrolled": true
   },
   "outputs": [],
   "source": [
    "table = meta_creator.read_table_from_docx('1-1-1-1-송영재.docx')\n",
    "table"
   ]
  },
  {
   "cell_type": "code",
   "execution_count": null,
   "metadata": {
    "scrolled": true
   },
   "outputs": [],
   "source": [
    "import pandas as pd\n",
    "pd.DataFrame(table, index=['']).T.to_excel('1-1-1-1-송영재.xlsx')"
   ]
  },
  {
   "cell_type": "code",
   "execution_count": null,
   "metadata": {},
   "outputs": [],
   "source": [
    "pd.read_excel('/home/teo/label-studio_files/nia_dataset/__DATA_v4/01/metadata/r-1-1-4-11-백승렬.xlsx')"
   ]
  },
  {
   "cell_type": "code",
   "execution_count": null,
   "metadata": {},
   "outputs": [],
   "source": [
    "!pip install openpyxl"
   ]
  },
  {
   "cell_type": "code",
   "execution_count": null,
   "metadata": {},
   "outputs": [],
   "source": [
    "meta_creator.vocab['idx2title']"
   ]
  },
  {
   "cell_type": "code",
   "execution_count": null,
   "metadata": {},
   "outputs": [],
   "source": [
    "mediainfo(\"/home/teo/userdata/nia_dataset/field_recording/5팀 이상화 1주차/mp3/1-2-7-6-백승렬.mp3\")"
   ]
  },
  {
   "cell_type": "code",
   "execution_count": null,
   "metadata": {},
   "outputs": [],
   "source": [
    "import docx\n",
    "\n",
    "def getText(filename):\n",
    "    doc = docx.Document(filename)\n",
    "    fullText = []\n",
    "    for para in doc.paragraphs:\n",
    "        fullText.append(para.text)\n",
    "    return '\\n'.join(fullText)\n",
    "\n",
    "test = getText('1-1-1-1-송영재.docx')"
   ]
  },
  {
   "cell_type": "code",
   "execution_count": null,
   "metadata": {},
   "outputs": [],
   "source": [
    "from docx.api import Document\n",
    "\n",
    "# Load the first table from your document. In your example file,\n",
    "# there is only one table, so I just grab the first one.\n",
    "document = Document('1-1-1-1-송영재.docx')\n",
    "table = document.tables[0]"
   ]
  },
  {
   "cell_type": "code",
   "execution_count": null,
   "metadata": {},
   "outputs": [],
   "source": [
    "data = []\n",
    "\n",
    "keys = None\n",
    "for i, row in enumerate(table.rows):\n",
    "    text = (cell.text for cell in row.cells)\n",
    "\n",
    "    # Establish the mapping based on the first row\n",
    "    # headers; these will become the keys of our dictionary\n",
    "    if i == 0:\n",
    "        keys = tuple(text)\n",
    "        continue\n",
    "\n",
    "    # Construct a dictionary for this row, mapping\n",
    "    # keys to values for this row\n",
    "    row_data = dict(zip(keys, text))\n",
    "    data.append(row_data)\n",
    "data[0]['']"
   ]
  },
  {
   "cell_type": "code",
   "execution_count": null,
   "metadata": {},
   "outputs": [],
   "source": []
  }
 ],
 "metadata": {
  "kernelspec": {
   "display_name": "Python 3 (ipykernel)",
   "language": "python",
   "name": "python3"
  },
  "language_info": {
   "codemirror_mode": {
    "name": "ipython",
    "version": 3
   },
   "file_extension": ".py",
   "mimetype": "text/x-python",
   "name": "python",
   "nbconvert_exporter": "python",
   "pygments_lexer": "ipython3",
   "version": "3.8.10"
  },
  "vscode": {
   "interpreter": {
    "hash": "31f2aee4e71d21fbe5cf8b01ff0e069b9275f58929596ceb00d14d90e3e16cd6"
   }
  }
 },
 "nbformat": 4,
 "nbformat_minor": 2
}
