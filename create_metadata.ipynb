{
 "cells": [
  {
   "cell_type": "code",
   "execution_count": 14,
   "metadata": {},
   "outputs": [],
   "source": [
    "%load_ext autoreload\n",
    "%autoreload 2"
   ]
  },
  {
   "cell_type": "code",
   "execution_count": 16,
   "metadata": {},
   "outputs": [],
   "source": [
    "import json\n",
    "import torchaudio\n",
    "from pathlib import Path\n",
    "from copy import copy\n",
    "from docx.api import Document\n",
    "import soundfile as sf\n",
    "import librosa\n",
    "from pydub.utils import mediainfo\n",
    "from tqdm.auto import tqdm\n",
    "import pandas as pd\n",
    "\n",
    "from data_utils import NeutuneSet, OnFlyAudio"
   ]
  },
  {
   "cell_type": "code",
   "execution_count": 2,
   "metadata": {},
   "outputs": [],
   "source": [
    "# dataset = NeutuneSet('/home/teo/userdata/nia_dataset/field_recording')\n",
    "# dataset = NeutuneSet('/home/teo/label-studio_files/nia_dataset/')\n",
    "dataset = NeutuneSet('/home/clay/userdata/nia_dataset/data_v4/01/')"
   ]
  },
  {
   "cell_type": "code",
   "execution_count": 44,
   "metadata": {},
   "outputs": [
    {
     "data": {
      "application/vnd.jupyter.widget-view+json": {
       "model_id": "50b1050070f4418483f49e1c887ad8c5",
       "version_major": 2,
       "version_minor": 0
      },
      "text/plain": [
       "  0%|          | 0/497 [00:00<?, ?it/s]"
      ]
     },
     "metadata": {},
     "output_type": "display_data"
    }
   ],
   "source": [
    "from pandas import read_table\n",
    "\n",
    "from meta_utils import MetaCreator\n",
    "\n",
    "meta_creator = MetaCreator('vocab.json')\n",
    "# meta_creator.create_meta_for_wav(dataset.wav_list[0])\n",
    "entire_meta = [meta_creator.create_meta_for_wav(wav) for wav in tqdm(sorted(dataset.wav_list))]"
   ]
  },
  {
   "cell_type": "code",
   "execution_count": 45,
   "metadata": {},
   "outputs": [
    {
     "name": "stdout",
     "output_type": "stream",
     "text": [
      "72\n"
     ]
    },
    {
     "data": {
      "text/plain": [
       "defaultdict(list,\n",
       "            {'Meta docx does not exist': ['fs-2-4-75-1-김양우.wav',\n",
       "              'fs-2-4-75-2-김양우.wav',\n",
       "              'fs-2-4-75-3-김양우.wav',\n",
       "              'fs-2-4-78-1-김양우.wav',\n",
       "              'fs-2-4-78-2-김양우.wav',\n",
       "              'fs-2-4-78-3-김양우.wav',\n",
       "              'fs-2-4-86-1-김양우.wav',\n",
       "              'fs-2-4-86-2-김양우.wav',\n",
       "              'fs-2-4-86-3-김양우.wav',\n",
       "              'fs-2-4-87-1-김양우.wav',\n",
       "              'fs-2-4-87-2-김양우.wav',\n",
       "              'fs-2-4-87-3-김양우.wav',\n",
       "              'r-1-1-2-3 허진만.wav'],\n",
       "             'Error occured while handling the corresponding docx': ['fs-2-4-75-1-김준형.wav',\n",
       "              'fs-2-4-75-1-이동화.wav',\n",
       "              'fs-2-4-75-1-장완석.wav',\n",
       "              'fs-2-4-75-2-김준형.wav',\n",
       "              'fs-2-4-75-2-이동화.wav',\n",
       "              'fs-2-4-75-2-장완석.wav',\n",
       "              'fs-2-4-75-3-김준형.wav',\n",
       "              'fs-2-4-75-3-이동화.wav',\n",
       "              'fs-2-4-75-3-장완석.wav',\n",
       "              'fs-2-4-78-1-김준형.wav',\n",
       "              'fs-2-4-78-1-송화영.wav',\n",
       "              'fs-2-4-78-1-이동화.wav',\n",
       "              'fs-2-4-78-1-장완석.wav',\n",
       "              'fs-2-4-78-2-김준형.wav',\n",
       "              'fs-2-4-78-2-송화영.wav',\n",
       "              'fs-2-4-78-2-이동화.wav',\n",
       "              'fs-2-4-78-2-장완석.wav',\n",
       "              'fs-2-4-78-3-김준형.wav',\n",
       "              'fs-2-4-78-3-이동화.wav',\n",
       "              'fs-2-4-78-3-장완석.wav',\n",
       "              'fs-2-4-86-1-김준형.wav',\n",
       "              'fs-2-4-86-1-이동화.wav',\n",
       "              'fs-2-4-86-1-장완석.wav',\n",
       "              'fs-2-4-86-2-김준형.wav',\n",
       "              'fs-2-4-86-2-이동화.wav',\n",
       "              'fs-2-4-86-2-장완석.wav',\n",
       "              'fs-2-4-86-3-김준형.wav',\n",
       "              'fs-2-4-86-3-이동화.wav',\n",
       "              'fs-2-4-86-3-장완석.wav',\n",
       "              'fs-2-4-87-1-김준형.wav',\n",
       "              'fs-2-4-87-1-이동화.wav',\n",
       "              'fs-2-4-87-1-장완석.wav',\n",
       "              'fs-2-4-87-2-김준형.wav',\n",
       "              'fs-2-4-87-2-이동화.wav',\n",
       "              'fs-2-4-87-2-장완석.wav',\n",
       "              'fs-2-4-87-3-김준형.wav',\n",
       "              'fs-2-4-87-3-이동화.wav',\n",
       "              'fs-2-4-87-3-장완석.wav',\n",
       "              'r-1-1-1-1-김영운.wav',\n",
       "              'r-1-1-1-1-민건욱.wav',\n",
       "              'r-1-1-1-1-윤상빈.wav',\n",
       "              'r-1-1-1-2-김시온.wav',\n",
       "              'r-1-1-1-2-김영운.wav',\n",
       "              'r-1-1-1-2-민건욱.wav',\n",
       "              'r-1-1-1-2-윤상빈.wav',\n",
       "              'r-1-1-1-3-김영운.wav',\n",
       "              'r-1-1-1-3-민건욱.wav',\n",
       "              'r-1-1-1-3-윤상빈.wav',\n",
       "              'r-1-1-3-1-윤상빈.wav',\n",
       "              'r-1-1-4-1-윤상빈.wav'],\n",
       "             'Error occured while handling the corresponding xlsx': ['fs-2-4-78-1-어상진.wav',\n",
       "              'fs-2-4-78-2-어상진.wav',\n",
       "              'fs-2-4-78-3-어상진.wav',\n",
       "              'fs-2-4-79-1-어상진.wav',\n",
       "              'r-1-1-1-1-정욱.wav',\n",
       "              'r-1-1-1-2-정욱.wav',\n",
       "              'r-1-1-1-3-정욱.wav',\n",
       "              'r-1-1-1-4-정욱.wav',\n",
       "              'r-1-1-1-5-정욱.wav']})"
      ]
     },
     "execution_count": 45,
     "metadata": {},
     "output_type": "execute_result"
    }
   ],
   "source": [
    "error_list = meta_creator.error_list\n",
    "dict_list = meta_creator.error_dict\n",
    "print(len(error_list))\n",
    "dict_list"
   ]
  },
  {
   "cell_type": "code",
   "execution_count": 112,
   "metadata": {},
   "outputs": [
    {
     "ename": "IndexError",
     "evalue": "tuple index out of range",
     "output_type": "error",
     "traceback": [
      "\u001b[0;31m---------------------------------------------------------------------------\u001b[0m",
      "\u001b[0;31mIndexError\u001b[0m                                Traceback (most recent call last)",
      "\u001b[1;32m/home/clay/userdata/nia-sound-event-1/create_metadata.ipynb 셀 6\u001b[0m in \u001b[0;36m<module>\u001b[0;34m\u001b[0m\n\u001b[1;32m      <a href='vscode-notebook-cell://ssh-remote%2B163.239.104.244/home/clay/userdata/nia-sound-event-1/create_metadata.ipynb#X12sdnNjb2RlLXJlbW90ZQ%3D%3D?line=0'>1</a>\u001b[0m docx_path \u001b[39m=\u001b[39m \u001b[39m'\u001b[39m\u001b[39m/home/clay/userdata/nia_dataset/data_v4/01/metadata/r-1-1-1-2-김영운.docx\u001b[39m\u001b[39m'\u001b[39m\n\u001b[0;32m----> <a href='vscode-notebook-cell://ssh-remote%2B163.239.104.244/home/clay/userdata/nia-sound-event-1/create_metadata.ipynb#X12sdnNjb2RlLXJlbW90ZQ%3D%3D?line=1'>2</a>\u001b[0m meta_creator\u001b[39m.\u001b[39;49mread_table_from_docx(docx_path)\n",
      "File \u001b[0;32m~/userdata/nia-sound-event-1/meta_utils.py:123\u001b[0m, in \u001b[0;36mMetaCreator.read_table_from_docx\u001b[0;34m(self, docx_path)\u001b[0m\n\u001b[1;32m    121\u001b[0m document \u001b[39m=\u001b[39m Document(docx_path)\n\u001b[1;32m    122\u001b[0m table \u001b[39m=\u001b[39m document\u001b[39m.\u001b[39mtables[\u001b[39m0\u001b[39m]\n\u001b[0;32m--> 123\u001b[0m table_dict \u001b[39m=\u001b[39m {row\u001b[39m.\u001b[39mcells[\u001b[39m0\u001b[39m]\u001b[39m.\u001b[39mtext:row\u001b[39m.\u001b[39mcells[\u001b[39m1\u001b[39m]\u001b[39m.\u001b[39mtext \u001b[39mfor\u001b[39;00m row \u001b[39min\u001b[39;00m table\u001b[39m.\u001b[39mrows[\u001b[39m1\u001b[39m:]}\n\u001b[1;32m    125\u001b[0m \u001b[39mreturn\u001b[39;00m table_dict\n",
      "File \u001b[0;32m~/userdata/nia-sound-event-1/meta_utils.py:123\u001b[0m, in \u001b[0;36m<dictcomp>\u001b[0;34m(.0)\u001b[0m\n\u001b[1;32m    121\u001b[0m document \u001b[39m=\u001b[39m Document(docx_path)\n\u001b[1;32m    122\u001b[0m table \u001b[39m=\u001b[39m document\u001b[39m.\u001b[39mtables[\u001b[39m0\u001b[39m]\n\u001b[0;32m--> 123\u001b[0m table_dict \u001b[39m=\u001b[39m {row\u001b[39m.\u001b[39;49mcells[\u001b[39m0\u001b[39;49m]\u001b[39m.\u001b[39mtext:row\u001b[39m.\u001b[39mcells[\u001b[39m1\u001b[39m]\u001b[39m.\u001b[39mtext \u001b[39mfor\u001b[39;00m row \u001b[39min\u001b[39;00m table\u001b[39m.\u001b[39mrows[\u001b[39m1\u001b[39m:]}\n\u001b[1;32m    125\u001b[0m \u001b[39mreturn\u001b[39;00m table_dict\n",
      "\u001b[0;31mIndexError\u001b[0m: tuple index out of range"
     ]
    }
   ],
   "source": [
    "docx_path = '/home/clay/userdata/nia_dataset/data_v4/01/metadata/r-1-1-1-2-김영운.docx'\n",
    "meta_creator.read_table_from_docx(docx_path)"
   ]
  },
  {
   "cell_type": "code",
   "execution_count": 110,
   "metadata": {},
   "outputs": [
    {
     "name": "stdout",
     "output_type": "stream",
     "text": [
      "<docx.table._Row object at 0x7fc827c32280>\n",
      "분류 번호\n",
      "<docx.table._Row object at 0x7fc827c825b0>\n",
      "마곡 코트야드 호텔 뷔페 옆 큰 공간\n",
      "<docx.table._Row object at 0x7fc827bc2fa0>\n",
      "녹음 연/월/일\n",
      "<docx.table._Row object at 0x7fc827c7beb0>\n",
      "Zoom H6 레코더, 윈드쉴드, 헤드셋\n",
      "<docx.table._Row object at 0x7fc827bc2d30>\n",
      "오디오 길이\n",
      "<docx.table._Row object at 0x7fc827c2d940>\n",
      "서울시 강서구 마곡중앙 12로\n",
      "<docx.table._Row object at 0x7fc827c2de50>\n",
      "음원으로부터의 거리\n",
      "<docx.table._Row object at 0x7fc827ca8e20>\n",
      "약간 흐림\n",
      "<docx.table._Row object at 0x7fc827ca82b0>\n",
      "보안 이슈\n",
      "<docx.table._Row object at 0x7fc827ca8100>\n",
      "호텔 음악소리 살짝 섞임\n",
      "<docx.table._Row object at 0x7fc827ca8130>\n",
      "<docx.table._Row object at 0x7fc827c877c0>\n",
      "<docx.table._Row object at 0x7fc827ca81c0>\n",
      "<docx.table._Row object at 0x7fc827ca8070>\n",
      "<docx.table._Row object at 0x7fc827c87bb0>\n"
     ]
    }
   ],
   "source": [
    "count = 0\n",
    "\n",
    "document = Document(docx_path)\n",
    "table = document.tables[0]\n",
    "for row in table.rows:\n",
    "  print(row)\n",
    "  try:\n",
    "    print(row.cells[2].text)\n",
    "  except:\n",
    "    continue\n",
    "  \n",
    "  '''\n",
    "  if count != 0:\n",
    "    print(row.cells)\n",
    "  count += 1\n",
    "  '''\n"
   ]
  },
  {
   "cell_type": "code",
   "execution_count": 116,
   "metadata": {},
   "outputs": [
    {
     "data": {
      "text/html": [
       "<div>\n",
       "<style scoped>\n",
       "    .dataframe tbody tr th:only-of-type {\n",
       "        vertical-align: middle;\n",
       "    }\n",
       "\n",
       "    .dataframe tbody tr th {\n",
       "        vertical-align: top;\n",
       "    }\n",
       "\n",
       "    .dataframe thead th {\n",
       "        text-align: right;\n",
       "    }\n",
       "</style>\n",
       "<table border=\"1\" class=\"dataframe\">\n",
       "  <thead>\n",
       "    <tr style=\"text-align: right;\">\n",
       "      <th></th>\n",
       "      <th>Unnamed: 1</th>\n",
       "      <th>Unnamed: 2</th>\n",
       "      <th>Unnamed: 3</th>\n",
       "    </tr>\n",
       "    <tr>\n",
       "      <th>1차 원시데이터 기록표 (필드레코딩)</th>\n",
       "      <th></th>\n",
       "      <th></th>\n",
       "      <th></th>\n",
       "    </tr>\n",
       "  </thead>\n",
       "  <tbody>\n",
       "    <tr>\n",
       "      <th>번호</th>\n",
       "      <td>구분</td>\n",
       "      <td>내용</td>\n",
       "      <td>비고</td>\n",
       "    </tr>\n",
       "    <tr>\n",
       "      <th>1</th>\n",
       "      <td>분류 표기</td>\n",
       "      <td>1-1-1</td>\n",
       "      <td>NaN</td>\n",
       "    </tr>\n",
       "    <tr>\n",
       "      <th>2</th>\n",
       "      <td>상황 묘사(제목)</td>\n",
       "      <td>해밀톤 호텔 1층 로비</td>\n",
       "      <td>NaN</td>\n",
       "    </tr>\n",
       "    <tr>\n",
       "      <th>3</th>\n",
       "      <td>녹음 장소</td>\n",
       "      <td>서울특별시 용산구 이태원로179 해밀톤관광호텔</td>\n",
       "      <td>NaN</td>\n",
       "    </tr>\n",
       "    <tr>\n",
       "      <th>4</th>\n",
       "      <td>녹음 지점</td>\n",
       "      <td>37.5347253, 126.993847</td>\n",
       "      <td>NaN</td>\n",
       "    </tr>\n",
       "    <tr>\n",
       "      <th>5</th>\n",
       "      <td>기후/환경 조건</td>\n",
       "      <td>비 많이 옴</td>\n",
       "      <td>NaN</td>\n",
       "    </tr>\n",
       "    <tr>\n",
       "      <th>7</th>\n",
       "      <td>오디오 포맷</td>\n",
       "      <td>wav (스테레오, 96k, 24bit)</td>\n",
       "      <td>NaN</td>\n",
       "    </tr>\n",
       "    <tr>\n",
       "      <th>8</th>\n",
       "      <td>사용 기자재</td>\n",
       "      <td>Zoom H6 레코더, 윈드실드, 인이어</td>\n",
       "      <td>NaN</td>\n",
       "    </tr>\n",
       "    <tr>\n",
       "      <th>9</th>\n",
       "      <td>녹음/제작자 성명</td>\n",
       "      <td>정욱</td>\n",
       "      <td>NaN</td>\n",
       "    </tr>\n",
       "    <tr>\n",
       "      <th>10</th>\n",
       "      <td>제작 연/월/일</td>\n",
       "      <td>2022.08.09</td>\n",
       "      <td>NaN</td>\n",
       "    </tr>\n",
       "    <tr>\n",
       "      <th>11</th>\n",
       "      <td>보안 이슈</td>\n",
       "      <td>NaN</td>\n",
       "      <td>NaN</td>\n",
       "    </tr>\n",
       "    <tr>\n",
       "      <th>12</th>\n",
       "      <td>기타 특이사항</td>\n",
       "      <td>NaN</td>\n",
       "      <td>NaN</td>\n",
       "    </tr>\n",
       "  </tbody>\n",
       "</table>\n",
       "</div>"
      ],
      "text/plain": [
       "                      Unnamed: 1                 Unnamed: 2 Unnamed: 3\n",
       "1차 원시데이터 기록표 (필드레코딩)                                                  \n",
       "번호                            구분                         내용         비고\n",
       "1                          분류 표기                      1-1-1        NaN\n",
       "2                     상황 묘사(제목)                해밀톤 호텔 1층 로비        NaN\n",
       "3                          녹음 장소  서울특별시 용산구 이태원로179 해밀톤관광호텔        NaN\n",
       "4                          녹음 지점     37.5347253, 126.993847        NaN\n",
       "5                       기후/환경 조건                     비 많이 옴        NaN\n",
       "7                         오디오 포맷     wav (스테레오, 96k, 24bit)        NaN\n",
       "8                         사용 기자재     Zoom H6 레코더, 윈드실드, 인이어        NaN\n",
       "9                      녹음/제작자 성명                         정욱        NaN\n",
       "10                      제작 연/월/일                 2022.08.09        NaN\n",
       "11                         보안 이슈                        NaN        NaN\n",
       "12                       기타 특이사항                        NaN        NaN"
      ]
     },
     "execution_count": 116,
     "metadata": {},
     "output_type": "execute_result"
    }
   ],
   "source": [
    "excel_path = '/home/clay/userdata/nia_dataset/data_v4/01/metadata/r-1-1-1-1-정욱.xlsx'\n",
    "detailed_meta = pd.read_excel(excel_path, index_col=0)\n",
    "detailed_meta"
   ]
  },
  {
   "cell_type": "code",
   "execution_count": 118,
   "metadata": {},
   "outputs": [
    {
     "data": {
      "text/html": [
       "<div>\n",
       "<style scoped>\n",
       "    .dataframe tbody tr th:only-of-type {\n",
       "        vertical-align: middle;\n",
       "    }\n",
       "\n",
       "    .dataframe tbody tr th {\n",
       "        vertical-align: top;\n",
       "    }\n",
       "\n",
       "    .dataframe thead th {\n",
       "        text-align: right;\n",
       "    }\n",
       "</style>\n",
       "<table border=\"1\" class=\"dataframe\">\n",
       "  <thead>\n",
       "    <tr style=\"text-align: right;\">\n",
       "      <th></th>\n",
       "      <th>Unnamed: 1</th>\n",
       "      <th>Unnamed: 2</th>\n",
       "      <th>Unnamed: 3</th>\n",
       "    </tr>\n",
       "    <tr>\n",
       "      <th>1차 원시데이터 기록표 (폴리/합성)</th>\n",
       "      <th></th>\n",
       "      <th></th>\n",
       "      <th></th>\n",
       "    </tr>\n",
       "  </thead>\n",
       "  <tbody>\n",
       "    <tr>\n",
       "      <th>번호</th>\n",
       "      <td>구분</td>\n",
       "      <td>내용</td>\n",
       "      <td>비고</td>\n",
       "    </tr>\n",
       "    <tr>\n",
       "      <th>1</th>\n",
       "      <td>분류 표기</td>\n",
       "      <td>1-3-24</td>\n",
       "      <td>분류 기준표 참고</td>\n",
       "    </tr>\n",
       "    <tr>\n",
       "      <th>2</th>\n",
       "      <td>상황 묘사(제목)</td>\n",
       "      <td>에어컨 실외기 돌아가는 소리</td>\n",
       "      <td>구체적인 상황 기재</td>\n",
       "    </tr>\n",
       "    <tr>\n",
       "      <th>3</th>\n",
       "      <td>합성 방식 1</td>\n",
       "      <td>NaN</td>\n",
       "      <td>폴리 사운드 미활용시 공란 기재</td>\n",
       "    </tr>\n",
       "    <tr>\n",
       "      <th>4</th>\n",
       "      <td>제작시 사용 개체</td>\n",
       "      <td>NaN</td>\n",
       "      <td>폴리 방식 활용시 구체적 수음 방식 기재</td>\n",
       "    </tr>\n",
       "    <tr>\n",
       "      <th>5</th>\n",
       "      <td>합성 방식 2</td>\n",
       "      <td>신디사이저 및 샘플, 이펙터를 이용한 합성 음원</td>\n",
       "      <td>합성 사운드 미활용시 공란 기재</td>\n",
       "    </tr>\n",
       "    <tr>\n",
       "      <th>6</th>\n",
       "      <td>제작시 사용 개체</td>\n",
       "      <td>Logic Pro DAW</td>\n",
       "      <td>가급적 상세 기재</td>\n",
       "    </tr>\n",
       "    <tr>\n",
       "      <th>8</th>\n",
       "      <td>오디오 포맷</td>\n",
       "      <td>wav (스테레오, 96k, 24bit)</td>\n",
       "      <td>NaN</td>\n",
       "    </tr>\n",
       "    <tr>\n",
       "      <th>9</th>\n",
       "      <td>녹음/제작자 성명</td>\n",
       "      <td>어상진</td>\n",
       "      <td>NaN</td>\n",
       "    </tr>\n",
       "    <tr>\n",
       "      <th>10</th>\n",
       "      <td>제작 연/월/일</td>\n",
       "      <td>2022.07.08</td>\n",
       "      <td>입력 시 2022.07.28 (O) / 2022.7.28 (X)</td>\n",
       "    </tr>\n",
       "    <tr>\n",
       "      <th>11</th>\n",
       "      <td>보안 이슈</td>\n",
       "      <td>없음</td>\n",
       "      <td>불법 샘플 소스 사용 금지</td>\n",
       "    </tr>\n",
       "    <tr>\n",
       "      <th>12</th>\n",
       "      <td>기타 특이사항</td>\n",
       "      <td>NaN</td>\n",
       "      <td>기타 특이사항 기재</td>\n",
       "    </tr>\n",
       "  </tbody>\n",
       "</table>\n",
       "</div>"
      ],
      "text/plain": [
       "                      Unnamed: 1                  Unnamed: 2  \\\n",
       "1차 원시데이터 기록표 (폴리/합성)                                           \n",
       "번호                            구분                          내용   \n",
       "1                          분류 표기                      1-3-24   \n",
       "2                     상황 묘사(제목)              에어컨 실외기 돌아가는 소리   \n",
       "3                        합성 방식 1                         NaN   \n",
       "4                      제작시 사용 개체                         NaN   \n",
       "5                        합성 방식 2  신디사이저 및 샘플, 이펙터를 이용한 합성 음원   \n",
       "6                      제작시 사용 개체               Logic Pro DAW   \n",
       "8                         오디오 포맷      wav (스테레오, 96k, 24bit)   \n",
       "9                      녹음/제작자 성명                         어상진   \n",
       "10                      제작 연/월/일                  2022.07.08   \n",
       "11                         보안 이슈                          없음   \n",
       "12                       기타 특이사항                         NaN   \n",
       "\n",
       "                                                Unnamed: 3  \n",
       "1차 원시데이터 기록표 (폴리/합성)                                        \n",
       "번호                                                      비고  \n",
       "1                                                분류 기준표 참고  \n",
       "2                                               구체적인 상황 기재  \n",
       "3                                        폴리 사운드 미활용시 공란 기재  \n",
       "4                                   폴리 방식 활용시 구체적 수음 방식 기재  \n",
       "5                                        합성 사운드 미활용시 공란 기재  \n",
       "6                                                가급적 상세 기재  \n",
       "8                                                      NaN  \n",
       "9                                                      NaN  \n",
       "10                     입력 시 2022.07.28 (O) / 2022.7.28 (X)  \n",
       "11                                          불법 샘플 소스 사용 금지  \n",
       "12                                              기타 특이사항 기재  "
      ]
     },
     "execution_count": 118,
     "metadata": {},
     "output_type": "execute_result"
    }
   ],
   "source": [
    "excel_path = '/home/clay/userdata/nia_dataset/data_v4/01/metadata/fs-2-4-78-2-어상진.xlsx'\n",
    "detailed_meta = pd.read_excel(excel_path, index_col=0)\n",
    "detailed_meta"
   ]
  },
  {
   "cell_type": "code",
   "execution_count": 115,
   "metadata": {},
   "outputs": [
    {
     "data": {
      "text/html": [
       "<div>\n",
       "<style scoped>\n",
       "    .dataframe tbody tr th:only-of-type {\n",
       "        vertical-align: middle;\n",
       "    }\n",
       "\n",
       "    .dataframe tbody tr th {\n",
       "        vertical-align: top;\n",
       "    }\n",
       "\n",
       "    .dataframe thead th {\n",
       "        text-align: right;\n",
       "    }\n",
       "</style>\n",
       "<table border=\"1\" class=\"dataframe\">\n",
       "  <thead>\n",
       "    <tr style=\"text-align: right;\">\n",
       "      <th></th>\n",
       "      <th>Unnamed: 1</th>\n",
       "    </tr>\n",
       "  </thead>\n",
       "  <tbody>\n",
       "    <tr>\n",
       "      <th>분류 번호</th>\n",
       "      <td>1(공간/환경)-1(항공기)-002(제트기)</td>\n",
       "    </tr>\n",
       "    <tr>\n",
       "      <th>제목</th>\n",
       "      <td>제트 엔진 소리</td>\n",
       "    </tr>\n",
       "    <tr>\n",
       "      <th>녹음/제작자 성명</th>\n",
       "      <td>김수환</td>\n",
       "    </tr>\n",
       "    <tr>\n",
       "      <th>녹음/제작 연/월/일</th>\n",
       "      <td>2022.07.17.</td>\n",
       "    </tr>\n",
       "    <tr>\n",
       "      <th>사용 기자재</th>\n",
       "      <td>Ableton Live DAW</td>\n",
       "    </tr>\n",
       "    <tr>\n",
       "      <th>오디오 포맷</th>\n",
       "      <td>스테레오 - wav (96k, 24bit) / mp3</td>\n",
       "    </tr>\n",
       "    <tr>\n",
       "      <th>오디오 길이</th>\n",
       "      <td>105초</td>\n",
       "    </tr>\n",
       "    <tr>\n",
       "      <th>제작 장소</th>\n",
       "      <td>서울시 금호로 107</td>\n",
       "    </tr>\n",
       "    <tr>\n",
       "      <th>보안 이슈</th>\n",
       "      <td>없음</td>\n",
       "    </tr>\n",
       "    <tr>\n",
       "      <th>자료 제공자 정보</th>\n",
       "      <td>Soundly</td>\n",
       "    </tr>\n",
       "  </tbody>\n",
       "</table>\n",
       "</div>"
      ],
      "text/plain": [
       "                                Unnamed: 1\n",
       "분류 번호             1(공간/환경)-1(항공기)-002(제트기)\n",
       "제목                                제트 엔진 소리\n",
       "녹음/제작자 성명                              김수환\n",
       "녹음/제작 연/월/일                    2022.07.17.\n",
       "사용 기자재                    Ableton Live DAW\n",
       "오디오 포맷       스테레오 - wav (96k, 24bit) / mp3\n",
       "오디오 길이                                105초\n",
       "제작 장소                          서울시 금호로 107\n",
       "보안 이슈                                   없음\n",
       "자료 제공자 정보                          Soundly"
      ]
     },
     "execution_count": 115,
     "metadata": {},
     "output_type": "execute_result"
    }
   ],
   "source": [
    "excel_path = '/home/clay/userdata/nia_dataset/data_v4/01/metadata/fs-2-4-75-1-김수환.xlsx'\n",
    "detailed_meta = pd.read_excel(excel_path, index_col=0)\n",
    "detailed_meta"
   ]
  },
  {
   "cell_type": "code",
   "execution_count": 17,
   "metadata": {},
   "outputs": [
    {
     "data": {
      "text/plain": [
       "(PosixPath('/home/clay/userdata/nia_dataset/data_v4/01'),\n",
       " PosixPath('/home/clay/userdata/nia_dataset/data_v4/01/mp3/fs-2-4-75-1-가민지.mp3'))"
      ]
     },
     "execution_count": 17,
     "metadata": {},
     "output_type": "execute_result"
    }
   ],
   "source": [
    "event_id = 0\n",
    "dataset = OnFlyAudio('/home/clay/userdata/nia_dataset/data_v4/01/')\n",
    "dataset.path, dataset.mp3_list[0]"
   ]
  },
  {
   "cell_type": "code",
   "execution_count": 19,
   "metadata": {},
   "outputs": [
    {
     "name": "stdout",
     "output_type": "stream",
     "text": [
      "mp3/fs-2-4-75-1-가민지.mp3\n"
     ]
    },
    {
     "data": {
      "text/plain": [
       "PosixPath('01/mp3/fs-2-4-75-1-가민지.mp3')"
      ]
     },
     "execution_count": 19,
     "metadata": {},
     "output_type": "execute_result"
    }
   ],
   "source": [
    "event_id = 0\n",
    "sample_path = dataset.mp3_list[event_id].relative_to(dataset.path)\n",
    "print(sample_path)\n",
    "sample_path = '01' / sample_path\n",
    "sample_path"
   ]
  },
  {
   "cell_type": "code",
   "execution_count": null,
   "metadata": {
    "scrolled": true
   },
   "outputs": [],
   "source": [
    "import numpy as np\n",
    "\n",
    "class AudioFeatureExtractor:\n",
    "  def __init__(self):\n",
    "    pass \n",
    "\n",
    "  def get_audio_features(self, y:np.ndarray, sr:int):\n",
    "    spec = self.get_spec(y, sr)\n",
    "    \n",
    "    spec_centroid = self.get_mean_and_std_of_audio_feature(spec, sr, librosa.feature.spectral_centroid, 'spectral centroid')\n",
    "    \n",
    "    spec_centroid.update(self.get_mean_and_std_of_audio_feature(spec, sr, librosa.feature.spectral_bandwidth, 'spectral bandwidth'))\n",
    "    spec_centroid.update(self.get_mean_and_std_of_audio_feature(spec, sr, librosa.feature.spectral_contrast, 'spectral contrast'))\n",
    "    spec_centroid.update(self.get_mean_and_std_of_audio_feature(spec, sr, librosa.feature.spectral_rolloff, 'spectral roll off'))\n",
    "    spec_centroid.update(self.get_mean_and_std_of_audio_feature_wo_sr(y, librosa.feature.spectral_flatness, 'spectral flatness'))\n",
    "    spec_centroid.update(self.get_mean_and_std_of_audio_feature_wo_sr(y, librosa.feature.zero_crossing_rate, 'zero crossing rate'))\n",
    "    spec_centroid.update(self.get_mean_and_std_of_audio_feature_wo_sr(y, librosa.feature.rms, 'rms'))\n",
    "\n",
    "    return spec_centroid\n",
    "  \n",
    "  def get_spec(self, y, sr):\n",
    "    return np.abs(librosa.stft(y))\n",
    "  \n",
    "  def get_mean_and_std_of_audio_feature(self, y, sr, audio_feature, audio_feature_name:str):\n",
    "    audio_features = audio_feature(S = y, sr = sr)\n",
    "    return {f'{audio_feature_name} mean': np.mean(audio_features) , f'{audio_feature_name} std':np.std(audio_features) }\n",
    "  \n",
    "  def get_mean_and_std_of_audio_feature_wo_sr(self, y, audio_feature, audio_feature_name:str):\n",
    "    audio_features = audio_feature(y = y)\n",
    "    return {f'{audio_feature_name} mean': np.mean(audio_features) , f'{audio_feature_name} std':np.std(audio_features) }\n",
    "\n",
    "  def read_soundfile(self, soundfile:sf.SoundFile):\n",
    "    y = soundfile.read()\n",
    "    y = y.mean(1)\n",
    "    return y, soundfile.samplerate\n",
    "\n",
    "  def __call__(self, soundfile:sf.SoundFile):\n",
    "    y, sr = self.read_soundfile(soundfile)\n",
    "    return self.get_audio_features(y, sr)\n",
    "\n",
    "extractor = AudioFeatureExtractor()\n",
    "ob = sf.SoundFile(dataset.wav_list[290])\n",
    "\n",
    "# extractor(ob)"
   ]
  },
  {
   "cell_type": "code",
   "execution_count": null,
   "metadata": {},
   "outputs": [],
   "source": [
    "example_meta = entire_meta[290]\n",
    "example_meta['오디오 음향 특성'] = extractor(ob)"
   ]
  },
  {
   "cell_type": "code",
   "execution_count": null,
   "metadata": {},
   "outputs": [],
   "source": [
    "with open(\"example_meta.json\", 'w') as f:\n",
    "  json.dump(example_meta, f, ensure_ascii=False)\n",
    "# example_meta"
   ]
  },
  {
   "cell_type": "code",
   "execution_count": null,
   "metadata": {},
   "outputs": [],
   "source": [
    "import pandas as pd\n",
    "pd.DataFrame([(x['소분류'], x['녹음 방식'], x['파일 이름'], x['길이']) for x in entire_meta]).to_csv('length.csv')"
   ]
  },
  {
   "cell_type": "code",
   "execution_count": null,
   "metadata": {},
   "outputs": [],
   "source": [
    "len(dataset.wav_list)"
   ]
  },
  {
   "cell_type": "code",
   "execution_count": null,
   "metadata": {},
   "outputs": [],
   "source": [
    "[error['file'] for error in meta_creator.error_list if error['error'] == 'Error occured while handling the corresponding docx']"
   ]
  },
  {
   "cell_type": "code",
   "execution_count": null,
   "metadata": {},
   "outputs": [],
   "source": [
    "meta_creator.error_list"
   ]
  },
  {
   "cell_type": "code",
   "execution_count": null,
   "metadata": {},
   "outputs": [],
   "source": [
    "entire_meta[290]"
   ]
  },
  {
   "cell_type": "code",
   "execution_count": null,
   "metadata": {},
   "outputs": [],
   "source": [
    "for meta in entire_meta:\n",
    "  if '필드 레코딩 메타' in meta:\n",
    "    print(meta['필드 레코딩 메타']['소리의 강도'])"
   ]
  },
  {
   "cell_type": "markdown",
   "metadata": {},
   "source": []
  },
  {
   "cell_type": "code",
   "execution_count": null,
   "metadata": {},
   "outputs": [],
   "source": [
    "test = Document(\"/home/teo/userdata/nia_dataset/field_recording/5팀 이상화 1주차/metadata/1-2-5-1-김민규.docx\")\n",
    "table = test.tables[0]\n",
    "\n",
    "for row in table.rows:\n",
    "  print(row.cells[0].text, '//', row.cells[1].text)"
   ]
  },
  {
   "cell_type": "code",
   "execution_count": null,
   "metadata": {},
   "outputs": [],
   "source": [
    "meta_creator.read_table_from_docx(\"/home/teo/userdata/nia_dataset/field_recording/4팀 김양우 1주차/metadata/1-1-3-1-한은광.docx\")"
   ]
  },
  {
   "cell_type": "code",
   "execution_count": null,
   "metadata": {},
   "outputs": [],
   "source": [
    "Path(\"/home/teo/userdata/nia_dataset/field_recording/5팀 이상화 1주차/metadata/1-2-7-6-백승렬.docx\").exists()"
   ]
  },
  {
   "cell_type": "code",
   "execution_count": null,
   "metadata": {
    "scrolled": true
   },
   "outputs": [],
   "source": [
    "table = meta_creator.read_table_from_docx('1-1-1-1-송영재.docx')\n",
    "table"
   ]
  },
  {
   "cell_type": "code",
   "execution_count": null,
   "metadata": {
    "scrolled": true
   },
   "outputs": [],
   "source": [
    "import pandas as pd\n",
    "pd.DataFrame(table, index=['']).T.to_excel('1-1-1-1-송영재.xlsx')"
   ]
  },
  {
   "cell_type": "code",
   "execution_count": null,
   "metadata": {},
   "outputs": [],
   "source": [
    "pd.read_excel('/home/teo/label-studio_files/nia_dataset/__DATA_v4/01/metadata/r-1-1-4-11-백승렬.xlsx')"
   ]
  },
  {
   "cell_type": "code",
   "execution_count": null,
   "metadata": {},
   "outputs": [],
   "source": [
    "!pip install openpyxl"
   ]
  },
  {
   "cell_type": "code",
   "execution_count": null,
   "metadata": {},
   "outputs": [],
   "source": [
    "meta_creator.vocab['idx2title']"
   ]
  },
  {
   "cell_type": "code",
   "execution_count": null,
   "metadata": {},
   "outputs": [],
   "source": [
    "mediainfo(\"/home/teo/userdata/nia_dataset/field_recording/5팀 이상화 1주차/mp3/1-2-7-6-백승렬.mp3\")"
   ]
  },
  {
   "cell_type": "code",
   "execution_count": null,
   "metadata": {},
   "outputs": [],
   "source": [
    "import docx\n",
    "\n",
    "def getText(filename):\n",
    "    doc = docx.Document(filename)\n",
    "    fullText = []\n",
    "    for para in doc.paragraphs:\n",
    "        fullText.append(para.text)\n",
    "    return '\\n'.join(fullText)\n",
    "\n",
    "test = getText('1-1-1-1-송영재.docx')"
   ]
  },
  {
   "cell_type": "code",
   "execution_count": null,
   "metadata": {},
   "outputs": [],
   "source": [
    "from docx.api import Document\n",
    "\n",
    "# Load the first table from your document. In your example file,\n",
    "# there is only one table, so I just grab the first one.\n",
    "document = Document('1-1-1-1-송영재.docx')\n",
    "table = document.tables[0]"
   ]
  },
  {
   "cell_type": "code",
   "execution_count": null,
   "metadata": {},
   "outputs": [],
   "source": [
    "data = []\n",
    "\n",
    "keys = None\n",
    "for i, row in enumerate(table.rows):\n",
    "    text = (cell.text for cell in row.cells)\n",
    "\n",
    "    # Establish the mapping based on the first row\n",
    "    # headers; these will become the keys of our dictionary\n",
    "    if i == 0:\n",
    "        keys = tuple(text)\n",
    "        continue\n",
    "\n",
    "    # Construct a dictionary for this row, mapping\n",
    "    # keys to values for this row\n",
    "    row_data = dict(zip(keys, text))\n",
    "    data.append(row_data)\n",
    "data[0]['']"
   ]
  },
  {
   "cell_type": "code",
   "execution_count": null,
   "metadata": {},
   "outputs": [],
   "source": []
  }
 ],
 "metadata": {
  "kernelspec": {
   "display_name": "Python 3 (ipykernel)",
   "language": "python",
   "name": "python3"
  },
  "language_info": {
   "codemirror_mode": {
    "name": "ipython",
    "version": 3
   },
   "file_extension": ".py",
   "mimetype": "text/x-python",
   "name": "python",
   "nbconvert_exporter": "python",
   "pygments_lexer": "ipython3",
   "version": "3.8.10"
  },
  "vscode": {
   "interpreter": {
    "hash": "31f2aee4e71d21fbe5cf8b01ff0e069b9275f58929596ceb00d14d90e3e16cd6"
   }
  }
 },
 "nbformat": 4,
 "nbformat_minor": 2
}
